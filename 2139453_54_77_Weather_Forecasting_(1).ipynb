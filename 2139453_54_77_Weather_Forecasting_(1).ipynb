{
  "cells": [
    {
      "cell_type": "markdown",
      "metadata": {
        "id": "view-in-github",
        "colab_type": "text"
      },
      "source": [
        "<a href=\"https://colab.research.google.com/github/DhatriPola/WeatherForecastingUsingRNN/blob/main/2139453_54_77_Weather_Forecasting_(1).ipynb\" target=\"_parent\"><img src=\"https://colab.research.google.com/assets/colab-badge.svg\" alt=\"Open In Colab\"/></a>"
      ]
    },
    {
      "cell_type": "code",
      "execution_count": null,
      "metadata": {
        "id": "G-KD6M_f5ao4"
      },
      "outputs": [],
      "source": [
        "import pandas as pd\n",
        "import seaborn as sn\n",
        "from sklearn.preprocessing import LabelEncoder, OneHotEncoder,MinMaxScaler\n",
        "from keras.models import Sequential \n",
        "from keras.layers import Dense \n",
        "from keras.layers import LSTM,Activation,Dropout\n",
        "from sklearn.metrics import mean_squared_error"
      ]
    },
    {
      "cell_type": "code",
      "execution_count": null,
      "metadata": {
        "id": "z8rA7lI25ao5"
      },
      "outputs": [],
      "source": [
        "from matplotlib import pyplot\n",
        "import numpy as np"
      ]
    },
    {
      "cell_type": "code",
      "execution_count": null,
      "metadata": {
        "id": "yg8U_HVB5ao6"
      },
      "outputs": [],
      "source": [
        "df=pd.read_csv(\"weatherHistory.csv\")"
      ]
    },
    {
      "cell_type": "code",
      "execution_count": null,
      "metadata": {
        "id": "zRo3kmJR5ao6",
        "outputId": "c2141db0-e4e5-451c-ebec-8c6b48c0fcc6"
      },
      "outputs": [
        {
          "name": "stdout",
          "output_type": "stream",
          "text": [
            "<class 'pandas.core.frame.DataFrame'>\n",
            "RangeIndex: 96453 entries, 0 to 96452\n",
            "Data columns (total 12 columns):\n",
            " #   Column                    Non-Null Count  Dtype  \n",
            "---  ------                    --------------  -----  \n",
            " 0   Formatted Date            96453 non-null  object \n",
            " 1   Summary                   96453 non-null  object \n",
            " 2   Precip Type               95936 non-null  object \n",
            " 3   Temperature (C)           96453 non-null  float64\n",
            " 4   Apparent Temperature (C)  96453 non-null  float64\n",
            " 5   Humidity                  96453 non-null  float64\n",
            " 6   Wind Speed (km/h)         96453 non-null  float64\n",
            " 7   Wind Bearing (degrees)    96453 non-null  int64  \n",
            " 8   Visibility (km)           96453 non-null  float64\n",
            " 9   Loud Cover                96453 non-null  int64  \n",
            " 10  Pressure (millibars)      96453 non-null  float64\n",
            " 11  Daily Summary             96453 non-null  object \n",
            "dtypes: float64(6), int64(2), object(4)\n",
            "memory usage: 8.8+ MB\n"
          ]
        }
      ],
      "source": [
        "df.info()"
      ]
    },
    {
      "cell_type": "code",
      "execution_count": null,
      "metadata": {
        "id": "ZYc0LM955ao7",
        "outputId": "af86b582-37fe-4177-8fb6-1d4d41c5437a"
      },
      "outputs": [
        {
          "data": {
            "text/html": [
              "<div>\n",
              "<style scoped>\n",
              "    .dataframe tbody tr th:only-of-type {\n",
              "        vertical-align: middle;\n",
              "    }\n",
              "\n",
              "    .dataframe tbody tr th {\n",
              "        vertical-align: top;\n",
              "    }\n",
              "\n",
              "    .dataframe thead th {\n",
              "        text-align: right;\n",
              "    }\n",
              "</style>\n",
              "<table border=\"1\" class=\"dataframe\">\n",
              "  <thead>\n",
              "    <tr style=\"text-align: right;\">\n",
              "      <th></th>\n",
              "      <th>Formatted Date</th>\n",
              "      <th>Summary</th>\n",
              "      <th>Precip Type</th>\n",
              "      <th>Temperature (C)</th>\n",
              "      <th>Apparent Temperature (C)</th>\n",
              "      <th>Humidity</th>\n",
              "      <th>Wind Speed (km/h)</th>\n",
              "      <th>Wind Bearing (degrees)</th>\n",
              "      <th>Visibility (km)</th>\n",
              "      <th>Loud Cover</th>\n",
              "      <th>Pressure (millibars)</th>\n",
              "      <th>Daily Summary</th>\n",
              "    </tr>\n",
              "  </thead>\n",
              "  <tbody>\n",
              "    <tr>\n",
              "      <th>0</th>\n",
              "      <td>2006-04-01 00:00:00.000 +0200</td>\n",
              "      <td>Partly Cloudy</td>\n",
              "      <td>rain</td>\n",
              "      <td>9.472222</td>\n",
              "      <td>7.388889</td>\n",
              "      <td>0.89</td>\n",
              "      <td>14.1197</td>\n",
              "      <td>251</td>\n",
              "      <td>15.8263</td>\n",
              "      <td>0</td>\n",
              "      <td>1015.13</td>\n",
              "      <td>Partly cloudy throughout the day.</td>\n",
              "    </tr>\n",
              "    <tr>\n",
              "      <th>1</th>\n",
              "      <td>2006-04-01 01:00:00.000 +0200</td>\n",
              "      <td>Partly Cloudy</td>\n",
              "      <td>rain</td>\n",
              "      <td>9.355556</td>\n",
              "      <td>7.227778</td>\n",
              "      <td>0.86</td>\n",
              "      <td>14.2646</td>\n",
              "      <td>259</td>\n",
              "      <td>15.8263</td>\n",
              "      <td>0</td>\n",
              "      <td>1015.63</td>\n",
              "      <td>Partly cloudy throughout the day.</td>\n",
              "    </tr>\n",
              "    <tr>\n",
              "      <th>2</th>\n",
              "      <td>2006-04-01 02:00:00.000 +0200</td>\n",
              "      <td>Mostly Cloudy</td>\n",
              "      <td>rain</td>\n",
              "      <td>9.377778</td>\n",
              "      <td>9.377778</td>\n",
              "      <td>0.89</td>\n",
              "      <td>3.9284</td>\n",
              "      <td>204</td>\n",
              "      <td>14.9569</td>\n",
              "      <td>0</td>\n",
              "      <td>1015.94</td>\n",
              "      <td>Partly cloudy throughout the day.</td>\n",
              "    </tr>\n",
              "    <tr>\n",
              "      <th>3</th>\n",
              "      <td>2006-04-01 03:00:00.000 +0200</td>\n",
              "      <td>Partly Cloudy</td>\n",
              "      <td>rain</td>\n",
              "      <td>8.288889</td>\n",
              "      <td>5.944444</td>\n",
              "      <td>0.83</td>\n",
              "      <td>14.1036</td>\n",
              "      <td>269</td>\n",
              "      <td>15.8263</td>\n",
              "      <td>0</td>\n",
              "      <td>1016.41</td>\n",
              "      <td>Partly cloudy throughout the day.</td>\n",
              "    </tr>\n",
              "    <tr>\n",
              "      <th>4</th>\n",
              "      <td>2006-04-01 04:00:00.000 +0200</td>\n",
              "      <td>Mostly Cloudy</td>\n",
              "      <td>rain</td>\n",
              "      <td>8.755556</td>\n",
              "      <td>6.977778</td>\n",
              "      <td>0.83</td>\n",
              "      <td>11.0446</td>\n",
              "      <td>259</td>\n",
              "      <td>15.8263</td>\n",
              "      <td>0</td>\n",
              "      <td>1016.51</td>\n",
              "      <td>Partly cloudy throughout the day.</td>\n",
              "    </tr>\n",
              "  </tbody>\n",
              "</table>\n",
              "</div>"
            ],
            "text/plain": [
              "                  Formatted Date        Summary Precip Type  Temperature (C)  \\\n",
              "0  2006-04-01 00:00:00.000 +0200  Partly Cloudy        rain         9.472222   \n",
              "1  2006-04-01 01:00:00.000 +0200  Partly Cloudy        rain         9.355556   \n",
              "2  2006-04-01 02:00:00.000 +0200  Mostly Cloudy        rain         9.377778   \n",
              "3  2006-04-01 03:00:00.000 +0200  Partly Cloudy        rain         8.288889   \n",
              "4  2006-04-01 04:00:00.000 +0200  Mostly Cloudy        rain         8.755556   \n",
              "\n",
              "   Apparent Temperature (C)  Humidity  Wind Speed (km/h)  \\\n",
              "0                  7.388889      0.89            14.1197   \n",
              "1                  7.227778      0.86            14.2646   \n",
              "2                  9.377778      0.89             3.9284   \n",
              "3                  5.944444      0.83            14.1036   \n",
              "4                  6.977778      0.83            11.0446   \n",
              "\n",
              "   Wind Bearing (degrees)  Visibility (km)  Loud Cover  Pressure (millibars)  \\\n",
              "0                     251          15.8263           0               1015.13   \n",
              "1                     259          15.8263           0               1015.63   \n",
              "2                     204          14.9569           0               1015.94   \n",
              "3                     269          15.8263           0               1016.41   \n",
              "4                     259          15.8263           0               1016.51   \n",
              "\n",
              "                       Daily Summary  \n",
              "0  Partly cloudy throughout the day.  \n",
              "1  Partly cloudy throughout the day.  \n",
              "2  Partly cloudy throughout the day.  \n",
              "3  Partly cloudy throughout the day.  \n",
              "4  Partly cloudy throughout the day.  "
            ]
          },
          "execution_count": 5,
          "metadata": {},
          "output_type": "execute_result"
        }
      ],
      "source": [
        "df.head()"
      ]
    },
    {
      "cell_type": "code",
      "execution_count": null,
      "metadata": {
        "id": "RzOrLZVB5ao7"
      },
      "outputs": [],
      "source": [
        "df=df.drop(['Daily Summary'],axis=1)"
      ]
    },
    {
      "cell_type": "code",
      "execution_count": null,
      "metadata": {
        "id": "vu0clijr5ao8",
        "outputId": "742745e7-87df-4721-d538-d65c5cf54abd"
      },
      "outputs": [
        {
          "data": {
            "text/plain": [
              "Formatted Date                0\n",
              "Summary                       0\n",
              "Precip Type                 517\n",
              "Temperature (C)               0\n",
              "Apparent Temperature (C)      0\n",
              "Humidity                      0\n",
              "Wind Speed (km/h)             0\n",
              "Wind Bearing (degrees)        0\n",
              "Visibility (km)               0\n",
              "Loud Cover                    0\n",
              "Pressure (millibars)          0\n",
              "dtype: int64"
            ]
          },
          "execution_count": 7,
          "metadata": {},
          "output_type": "execute_result"
        }
      ],
      "source": [
        "df.isnull().sum()"
      ]
    },
    {
      "cell_type": "code",
      "execution_count": null,
      "metadata": {
        "id": "0ZRbCS5H5ao8"
      },
      "outputs": [],
      "source": [
        "df.rename(columns={'Precip Type':'PrecipType'},inplace=True)"
      ]
    },
    {
      "cell_type": "code",
      "execution_count": null,
      "metadata": {
        "id": "VX_TKjyM5ao8",
        "outputId": "f4ed28fc-0f50-4af7-c364-6ff0d4878bcb"
      },
      "outputs": [
        {
          "name": "stderr",
          "output_type": "stream",
          "text": [
            "C:\\Users\\Dell\\AppData\\Local\\Temp\\ipykernel_6752\\3815843579.py:1: SettingWithCopyWarning: \n",
            "A value is trying to be set on a copy of a slice from a DataFrame\n",
            "\n",
            "See the caveats in the documentation: https://pandas.pydata.org/pandas-docs/stable/user_guide/indexing.html#returning-a-view-versus-a-copy\n",
            "  df.PrecipType[df.PrecipType == 'rain'] = 0\n",
            "C:\\Users\\Dell\\AppData\\Local\\Temp\\ipykernel_6752\\3815843579.py:2: SettingWithCopyWarning: \n",
            "A value is trying to be set on a copy of a slice from a DataFrame\n",
            "\n",
            "See the caveats in the documentation: https://pandas.pydata.org/pandas-docs/stable/user_guide/indexing.html#returning-a-view-versus-a-copy\n",
            "  df.PrecipType[df.PrecipType == 'snow'] = 1\n"
          ]
        }
      ],
      "source": [
        "df.PrecipType[df.PrecipType == 'rain'] = 0\n",
        "df.PrecipType[df.PrecipType == 'snow'] = 1"
      ]
    },
    {
      "cell_type": "code",
      "execution_count": null,
      "metadata": {
        "id": "hFvmktpW5ao9",
        "outputId": "5331c1dc-f8b2-48ec-ba46-786a74e63c35"
      },
      "outputs": [
        {
          "data": {
            "text/plain": [
              "Formatted Date                0\n",
              "Summary                       0\n",
              "PrecipType                  517\n",
              "Temperature (C)               0\n",
              "Apparent Temperature (C)      0\n",
              "Humidity                      0\n",
              "Wind Speed (km/h)             0\n",
              "Wind Bearing (degrees)        0\n",
              "Visibility (km)               0\n",
              "Loud Cover                    0\n",
              "Pressure (millibars)          0\n",
              "dtype: int64"
            ]
          },
          "execution_count": 10,
          "metadata": {},
          "output_type": "execute_result"
        }
      ],
      "source": [
        "df.isnull().sum()"
      ]
    },
    {
      "cell_type": "code",
      "execution_count": null,
      "metadata": {
        "id": "nSESAAAW5ao9",
        "outputId": "6bfe44a6-c45d-4de3-d728-44416bd211a7"
      },
      "outputs": [
        {
          "data": {
            "text/html": [
              "<div>\n",
              "<style scoped>\n",
              "    .dataframe tbody tr th:only-of-type {\n",
              "        vertical-align: middle;\n",
              "    }\n",
              "\n",
              "    .dataframe tbody tr th {\n",
              "        vertical-align: top;\n",
              "    }\n",
              "\n",
              "    .dataframe thead th {\n",
              "        text-align: right;\n",
              "    }\n",
              "</style>\n",
              "<table border=\"1\" class=\"dataframe\">\n",
              "  <thead>\n",
              "    <tr style=\"text-align: right;\">\n",
              "      <th></th>\n",
              "      <th>Formatted Date</th>\n",
              "      <th>Summary</th>\n",
              "      <th>PrecipType</th>\n",
              "      <th>Temperature (C)</th>\n",
              "      <th>Apparent Temperature (C)</th>\n",
              "      <th>Humidity</th>\n",
              "      <th>Wind Speed (km/h)</th>\n",
              "      <th>Wind Bearing (degrees)</th>\n",
              "      <th>Visibility (km)</th>\n",
              "      <th>Loud Cover</th>\n",
              "      <th>Pressure (millibars)</th>\n",
              "    </tr>\n",
              "  </thead>\n",
              "  <tbody>\n",
              "    <tr>\n",
              "      <th>0</th>\n",
              "      <td>2006-04-01 00:00:00.000 +0200</td>\n",
              "      <td>Partly Cloudy</td>\n",
              "      <td>0</td>\n",
              "      <td>9.472222</td>\n",
              "      <td>7.388889</td>\n",
              "      <td>0.89</td>\n",
              "      <td>14.1197</td>\n",
              "      <td>251</td>\n",
              "      <td>15.8263</td>\n",
              "      <td>0</td>\n",
              "      <td>1015.13</td>\n",
              "    </tr>\n",
              "    <tr>\n",
              "      <th>1</th>\n",
              "      <td>2006-04-01 01:00:00.000 +0200</td>\n",
              "      <td>Partly Cloudy</td>\n",
              "      <td>0</td>\n",
              "      <td>9.355556</td>\n",
              "      <td>7.227778</td>\n",
              "      <td>0.86</td>\n",
              "      <td>14.2646</td>\n",
              "      <td>259</td>\n",
              "      <td>15.8263</td>\n",
              "      <td>0</td>\n",
              "      <td>1015.63</td>\n",
              "    </tr>\n",
              "    <tr>\n",
              "      <th>2</th>\n",
              "      <td>2006-04-01 02:00:00.000 +0200</td>\n",
              "      <td>Mostly Cloudy</td>\n",
              "      <td>0</td>\n",
              "      <td>9.377778</td>\n",
              "      <td>9.377778</td>\n",
              "      <td>0.89</td>\n",
              "      <td>3.9284</td>\n",
              "      <td>204</td>\n",
              "      <td>14.9569</td>\n",
              "      <td>0</td>\n",
              "      <td>1015.94</td>\n",
              "    </tr>\n",
              "    <tr>\n",
              "      <th>3</th>\n",
              "      <td>2006-04-01 03:00:00.000 +0200</td>\n",
              "      <td>Partly Cloudy</td>\n",
              "      <td>0</td>\n",
              "      <td>8.288889</td>\n",
              "      <td>5.944444</td>\n",
              "      <td>0.83</td>\n",
              "      <td>14.1036</td>\n",
              "      <td>269</td>\n",
              "      <td>15.8263</td>\n",
              "      <td>0</td>\n",
              "      <td>1016.41</td>\n",
              "    </tr>\n",
              "    <tr>\n",
              "      <th>4</th>\n",
              "      <td>2006-04-01 04:00:00.000 +0200</td>\n",
              "      <td>Mostly Cloudy</td>\n",
              "      <td>0</td>\n",
              "      <td>8.755556</td>\n",
              "      <td>6.977778</td>\n",
              "      <td>0.83</td>\n",
              "      <td>11.0446</td>\n",
              "      <td>259</td>\n",
              "      <td>15.8263</td>\n",
              "      <td>0</td>\n",
              "      <td>1016.51</td>\n",
              "    </tr>\n",
              "  </tbody>\n",
              "</table>\n",
              "</div>"
            ],
            "text/plain": [
              "                  Formatted Date        Summary PrecipType  Temperature (C)  \\\n",
              "0  2006-04-01 00:00:00.000 +0200  Partly Cloudy          0         9.472222   \n",
              "1  2006-04-01 01:00:00.000 +0200  Partly Cloudy          0         9.355556   \n",
              "2  2006-04-01 02:00:00.000 +0200  Mostly Cloudy          0         9.377778   \n",
              "3  2006-04-01 03:00:00.000 +0200  Partly Cloudy          0         8.288889   \n",
              "4  2006-04-01 04:00:00.000 +0200  Mostly Cloudy          0         8.755556   \n",
              "\n",
              "   Apparent Temperature (C)  Humidity  Wind Speed (km/h)  \\\n",
              "0                  7.388889      0.89            14.1197   \n",
              "1                  7.227778      0.86            14.2646   \n",
              "2                  9.377778      0.89             3.9284   \n",
              "3                  5.944444      0.83            14.1036   \n",
              "4                  6.977778      0.83            11.0446   \n",
              "\n",
              "   Wind Bearing (degrees)  Visibility (km)  Loud Cover  Pressure (millibars)  \n",
              "0                     251          15.8263           0               1015.13  \n",
              "1                     259          15.8263           0               1015.63  \n",
              "2                     204          14.9569           0               1015.94  \n",
              "3                     269          15.8263           0               1016.41  \n",
              "4                     259          15.8263           0               1016.51  "
            ]
          },
          "execution_count": 11,
          "metadata": {},
          "output_type": "execute_result"
        }
      ],
      "source": [
        "df.head()"
      ]
    },
    {
      "cell_type": "code",
      "execution_count": null,
      "metadata": {
        "id": "hIGb7D9A5ao-"
      },
      "outputs": [],
      "source": [
        "df.fillna(0,inplace=True)"
      ]
    },
    {
      "cell_type": "code",
      "execution_count": null,
      "metadata": {
        "id": "MRttvZ3l5ao-",
        "outputId": "161abb18-38ec-4893-b4d9-f7af9a85c15c"
      },
      "outputs": [
        {
          "data": {
            "text/plain": [
              "Formatted Date              0\n",
              "Summary                     0\n",
              "PrecipType                  0\n",
              "Temperature (C)             0\n",
              "Apparent Temperature (C)    0\n",
              "Humidity                    0\n",
              "Wind Speed (km/h)           0\n",
              "Wind Bearing (degrees)      0\n",
              "Visibility (km)             0\n",
              "Loud Cover                  0\n",
              "Pressure (millibars)        0\n",
              "dtype: int64"
            ]
          },
          "execution_count": 13,
          "metadata": {},
          "output_type": "execute_result"
        }
      ],
      "source": [
        "df.isnull().sum()"
      ]
    },
    {
      "cell_type": "code",
      "execution_count": null,
      "metadata": {
        "id": "meaO_ued5ao-"
      },
      "outputs": [],
      "source": [
        "df.rename(columns={\"Temperature (C)\":\"Temperature\",\"Wind Speed (km/h)\":\"WindSpeed\",\"Wind Bearing (degrees)\":\"WindBearings\",\"Visibility (km)\":\"Visibilty\",\"Loud Cover\":\"LoudCover\",\"Pressure (millibars)\":\"Pressure\",\"Apparent Temperature (C)\":\"ApparentTemperature\"},inplace=True)"
      ]
    },
    {
      "cell_type": "code",
      "execution_count": null,
      "metadata": {
        "id": "H-1zyWRm5ao_",
        "outputId": "d5245a56-e079-4b5a-bb7a-6cbaaf60a011"
      },
      "outputs": [
        {
          "data": {
            "text/html": [
              "<div>\n",
              "<style scoped>\n",
              "    .dataframe tbody tr th:only-of-type {\n",
              "        vertical-align: middle;\n",
              "    }\n",
              "\n",
              "    .dataframe tbody tr th {\n",
              "        vertical-align: top;\n",
              "    }\n",
              "\n",
              "    .dataframe thead th {\n",
              "        text-align: right;\n",
              "    }\n",
              "</style>\n",
              "<table border=\"1\" class=\"dataframe\">\n",
              "  <thead>\n",
              "    <tr style=\"text-align: right;\">\n",
              "      <th></th>\n",
              "      <th>Formatted Date</th>\n",
              "      <th>Summary</th>\n",
              "      <th>PrecipType</th>\n",
              "      <th>Temperature</th>\n",
              "      <th>ApparentTemperature</th>\n",
              "      <th>Humidity</th>\n",
              "      <th>WindSpeed</th>\n",
              "      <th>WindBearings</th>\n",
              "      <th>Visibilty</th>\n",
              "      <th>LoudCover</th>\n",
              "      <th>Pressure</th>\n",
              "    </tr>\n",
              "  </thead>\n",
              "  <tbody>\n",
              "    <tr>\n",
              "      <th>0</th>\n",
              "      <td>2006-04-01 00:00:00.000 +0200</td>\n",
              "      <td>Partly Cloudy</td>\n",
              "      <td>0</td>\n",
              "      <td>9.472222</td>\n",
              "      <td>7.388889</td>\n",
              "      <td>0.89</td>\n",
              "      <td>14.1197</td>\n",
              "      <td>251</td>\n",
              "      <td>15.8263</td>\n",
              "      <td>0</td>\n",
              "      <td>1015.13</td>\n",
              "    </tr>\n",
              "    <tr>\n",
              "      <th>1</th>\n",
              "      <td>2006-04-01 01:00:00.000 +0200</td>\n",
              "      <td>Partly Cloudy</td>\n",
              "      <td>0</td>\n",
              "      <td>9.355556</td>\n",
              "      <td>7.227778</td>\n",
              "      <td>0.86</td>\n",
              "      <td>14.2646</td>\n",
              "      <td>259</td>\n",
              "      <td>15.8263</td>\n",
              "      <td>0</td>\n",
              "      <td>1015.63</td>\n",
              "    </tr>\n",
              "    <tr>\n",
              "      <th>2</th>\n",
              "      <td>2006-04-01 02:00:00.000 +0200</td>\n",
              "      <td>Mostly Cloudy</td>\n",
              "      <td>0</td>\n",
              "      <td>9.377778</td>\n",
              "      <td>9.377778</td>\n",
              "      <td>0.89</td>\n",
              "      <td>3.9284</td>\n",
              "      <td>204</td>\n",
              "      <td>14.9569</td>\n",
              "      <td>0</td>\n",
              "      <td>1015.94</td>\n",
              "    </tr>\n",
              "    <tr>\n",
              "      <th>3</th>\n",
              "      <td>2006-04-01 03:00:00.000 +0200</td>\n",
              "      <td>Partly Cloudy</td>\n",
              "      <td>0</td>\n",
              "      <td>8.288889</td>\n",
              "      <td>5.944444</td>\n",
              "      <td>0.83</td>\n",
              "      <td>14.1036</td>\n",
              "      <td>269</td>\n",
              "      <td>15.8263</td>\n",
              "      <td>0</td>\n",
              "      <td>1016.41</td>\n",
              "    </tr>\n",
              "    <tr>\n",
              "      <th>4</th>\n",
              "      <td>2006-04-01 04:00:00.000 +0200</td>\n",
              "      <td>Mostly Cloudy</td>\n",
              "      <td>0</td>\n",
              "      <td>8.755556</td>\n",
              "      <td>6.977778</td>\n",
              "      <td>0.83</td>\n",
              "      <td>11.0446</td>\n",
              "      <td>259</td>\n",
              "      <td>15.8263</td>\n",
              "      <td>0</td>\n",
              "      <td>1016.51</td>\n",
              "    </tr>\n",
              "  </tbody>\n",
              "</table>\n",
              "</div>"
            ],
            "text/plain": [
              "                  Formatted Date        Summary  PrecipType  Temperature  \\\n",
              "0  2006-04-01 00:00:00.000 +0200  Partly Cloudy           0     9.472222   \n",
              "1  2006-04-01 01:00:00.000 +0200  Partly Cloudy           0     9.355556   \n",
              "2  2006-04-01 02:00:00.000 +0200  Mostly Cloudy           0     9.377778   \n",
              "3  2006-04-01 03:00:00.000 +0200  Partly Cloudy           0     8.288889   \n",
              "4  2006-04-01 04:00:00.000 +0200  Mostly Cloudy           0     8.755556   \n",
              "\n",
              "   ApparentTemperature  Humidity  WindSpeed  WindBearings  Visibilty  \\\n",
              "0             7.388889      0.89    14.1197           251    15.8263   \n",
              "1             7.227778      0.86    14.2646           259    15.8263   \n",
              "2             9.377778      0.89     3.9284           204    14.9569   \n",
              "3             5.944444      0.83    14.1036           269    15.8263   \n",
              "4             6.977778      0.83    11.0446           259    15.8263   \n",
              "\n",
              "   LoudCover  Pressure  \n",
              "0          0   1015.13  \n",
              "1          0   1015.63  \n",
              "2          0   1015.94  \n",
              "3          0   1016.41  \n",
              "4          0   1016.51  "
            ]
          },
          "execution_count": 15,
          "metadata": {},
          "output_type": "execute_result"
        }
      ],
      "source": [
        "df.head()"
      ]
    },
    {
      "cell_type": "code",
      "execution_count": null,
      "metadata": {
        "id": "8HECzsW45ao_",
        "outputId": "ca9a4508-d796-45f2-c913-be082677d31e"
      },
      "outputs": [
        {
          "data": {
            "text/plain": [
              "array(['Partly Cloudy', 'Mostly Cloudy', 'Overcast', 'Foggy',\n",
              "       'Breezy and Mostly Cloudy', 'Clear', 'Breezy and Partly Cloudy',\n",
              "       'Breezy and Overcast', 'Humid and Mostly Cloudy',\n",
              "       'Humid and Partly Cloudy', 'Windy and Foggy', 'Windy and Overcast',\n",
              "       'Breezy and Foggy', 'Windy and Partly Cloudy', 'Breezy',\n",
              "       'Dry and Partly Cloudy', 'Windy and Mostly Cloudy',\n",
              "       'Dangerously Windy and Partly Cloudy', 'Dry', 'Windy',\n",
              "       'Humid and Overcast', 'Light Rain', 'Drizzle', 'Windy and Dry',\n",
              "       'Dry and Mostly Cloudy', 'Breezy and Dry', 'Rain'], dtype=object)"
            ]
          },
          "execution_count": 16,
          "metadata": {},
          "output_type": "execute_result"
        }
      ],
      "source": [
        "df.Summary.unique()"
      ]
    },
    {
      "cell_type": "code",
      "execution_count": null,
      "metadata": {
        "id": "NC17Jpj-5ao_",
        "outputId": "835d71dd-b86f-4010-f5c0-2c9ff0f5888a"
      },
      "outputs": [
        {
          "data": {
            "text/plain": [
              "array([0], dtype=int64)"
            ]
          },
          "execution_count": 17,
          "metadata": {},
          "output_type": "execute_result"
        }
      ],
      "source": [
        "df.LoudCover.unique()"
      ]
    },
    {
      "cell_type": "code",
      "execution_count": null,
      "metadata": {
        "id": "0sEs5UPN5apA",
        "outputId": "976158c2-3cc4-4464-d403-e6bd619bc8ac"
      },
      "outputs": [
        {
          "data": {
            "text/html": [
              "<div>\n",
              "<style scoped>\n",
              "    .dataframe tbody tr th:only-of-type {\n",
              "        vertical-align: middle;\n",
              "    }\n",
              "\n",
              "    .dataframe tbody tr th {\n",
              "        vertical-align: top;\n",
              "    }\n",
              "\n",
              "    .dataframe thead th {\n",
              "        text-align: right;\n",
              "    }\n",
              "</style>\n",
              "<table border=\"1\" class=\"dataframe\">\n",
              "  <thead>\n",
              "    <tr style=\"text-align: right;\">\n",
              "      <th></th>\n",
              "      <th>PrecipType</th>\n",
              "      <th>Temperature</th>\n",
              "      <th>ApparentTemperature</th>\n",
              "      <th>Humidity</th>\n",
              "      <th>WindSpeed</th>\n",
              "      <th>WindBearings</th>\n",
              "      <th>Visibilty</th>\n",
              "      <th>Pressure</th>\n",
              "    </tr>\n",
              "  </thead>\n",
              "  <tbody>\n",
              "    <tr>\n",
              "      <th>PrecipType</th>\n",
              "      <td>1.000000</td>\n",
              "      <td>-0.562620</td>\n",
              "      <td>-0.565207</td>\n",
              "      <td>0.232113</td>\n",
              "      <td>-0.067928</td>\n",
              "      <td>-0.041984</td>\n",
              "      <td>-0.312875</td>\n",
              "      <td>0.009008</td>\n",
              "    </tr>\n",
              "    <tr>\n",
              "      <th>Temperature</th>\n",
              "      <td>-0.562620</td>\n",
              "      <td>1.000000</td>\n",
              "      <td>0.992629</td>\n",
              "      <td>-0.632255</td>\n",
              "      <td>0.008957</td>\n",
              "      <td>0.029988</td>\n",
              "      <td>0.392847</td>\n",
              "      <td>-0.005447</td>\n",
              "    </tr>\n",
              "    <tr>\n",
              "      <th>ApparentTemperature</th>\n",
              "      <td>-0.565207</td>\n",
              "      <td>0.992629</td>\n",
              "      <td>1.000000</td>\n",
              "      <td>-0.602571</td>\n",
              "      <td>-0.056650</td>\n",
              "      <td>0.029031</td>\n",
              "      <td>0.381718</td>\n",
              "      <td>-0.000219</td>\n",
              "    </tr>\n",
              "    <tr>\n",
              "      <th>Humidity</th>\n",
              "      <td>0.232113</td>\n",
              "      <td>-0.632255</td>\n",
              "      <td>-0.602571</td>\n",
              "      <td>1.000000</td>\n",
              "      <td>-0.224951</td>\n",
              "      <td>0.000735</td>\n",
              "      <td>-0.369173</td>\n",
              "      <td>0.005454</td>\n",
              "    </tr>\n",
              "    <tr>\n",
              "      <th>WindSpeed</th>\n",
              "      <td>-0.067928</td>\n",
              "      <td>0.008957</td>\n",
              "      <td>-0.056650</td>\n",
              "      <td>-0.224951</td>\n",
              "      <td>1.000000</td>\n",
              "      <td>0.103822</td>\n",
              "      <td>0.100749</td>\n",
              "      <td>-0.049263</td>\n",
              "    </tr>\n",
              "    <tr>\n",
              "      <th>WindBearings</th>\n",
              "      <td>-0.041984</td>\n",
              "      <td>0.029988</td>\n",
              "      <td>0.029031</td>\n",
              "      <td>0.000735</td>\n",
              "      <td>0.103822</td>\n",
              "      <td>1.000000</td>\n",
              "      <td>0.047594</td>\n",
              "      <td>-0.011651</td>\n",
              "    </tr>\n",
              "    <tr>\n",
              "      <th>Visibilty</th>\n",
              "      <td>-0.312875</td>\n",
              "      <td>0.392847</td>\n",
              "      <td>0.381718</td>\n",
              "      <td>-0.369173</td>\n",
              "      <td>0.100749</td>\n",
              "      <td>0.047594</td>\n",
              "      <td>1.000000</td>\n",
              "      <td>0.059818</td>\n",
              "    </tr>\n",
              "    <tr>\n",
              "      <th>Pressure</th>\n",
              "      <td>0.009008</td>\n",
              "      <td>-0.005447</td>\n",
              "      <td>-0.000219</td>\n",
              "      <td>0.005454</td>\n",
              "      <td>-0.049263</td>\n",
              "      <td>-0.011651</td>\n",
              "      <td>0.059818</td>\n",
              "      <td>1.000000</td>\n",
              "    </tr>\n",
              "  </tbody>\n",
              "</table>\n",
              "</div>"
            ],
            "text/plain": [
              "                     PrecipType  Temperature  ApparentTemperature  Humidity  \\\n",
              "PrecipType             1.000000    -0.562620            -0.565207  0.232113   \n",
              "Temperature           -0.562620     1.000000             0.992629 -0.632255   \n",
              "ApparentTemperature   -0.565207     0.992629             1.000000 -0.602571   \n",
              "Humidity               0.232113    -0.632255            -0.602571  1.000000   \n",
              "WindSpeed             -0.067928     0.008957            -0.056650 -0.224951   \n",
              "WindBearings          -0.041984     0.029988             0.029031  0.000735   \n",
              "Visibilty             -0.312875     0.392847             0.381718 -0.369173   \n",
              "Pressure               0.009008    -0.005447            -0.000219  0.005454   \n",
              "\n",
              "                     WindSpeed  WindBearings  Visibilty  Pressure  \n",
              "PrecipType           -0.067928     -0.041984  -0.312875  0.009008  \n",
              "Temperature           0.008957      0.029988   0.392847 -0.005447  \n",
              "ApparentTemperature  -0.056650      0.029031   0.381718 -0.000219  \n",
              "Humidity             -0.224951      0.000735  -0.369173  0.005454  \n",
              "WindSpeed             1.000000      0.103822   0.100749 -0.049263  \n",
              "WindBearings          0.103822      1.000000   0.047594 -0.011651  \n",
              "Visibilty             0.100749      0.047594   1.000000  0.059818  \n",
              "Pressure             -0.049263     -0.011651   0.059818  1.000000  "
            ]
          },
          "execution_count": 20,
          "metadata": {},
          "output_type": "execute_result"
        }
      ],
      "source": [
        "df.corr()"
      ]
    },
    {
      "cell_type": "code",
      "execution_count": null,
      "metadata": {
        "id": "eMwft5a95apA"
      },
      "outputs": [],
      "source": [
        "df=df.drop(['LoudCover'],axis=1)"
      ]
    },
    {
      "cell_type": "code",
      "execution_count": null,
      "metadata": {
        "id": "q0uai-Hj5apA",
        "outputId": "a3234fb3-1f19-4e8c-91fd-b2ff0bff6846"
      },
      "outputs": [
        {
          "data": {
            "text/plain": [
              "<AxesSubplot:>"
            ]
          },
          "execution_count": 21,
          "metadata": {},
          "output_type": "execute_result"
        },
        {
          "data": {
            "image/png": "[encoded data removed]",
            "text/plain": [
              "<Figure size 432x288 with 2 Axes>"
            ]
          },
          "metadata": {
            "needs_background": "light"
          },
          "output_type": "display_data"
        }
      ],
      "source": [
        "sn.heatmap(df.corr())"
      ]
    },
    {
      "cell_type": "code",
      "execution_count": null,
      "metadata": {
        "id": "wz2UgV8v5apB",
        "outputId": "e2ffd773-d32c-47d4-eb72-584b5214bca7"
      },
      "outputs": [
        {
          "data": {
            "text/html": [
              "<div>\n",
              "<style scoped>\n",
              "    .dataframe tbody tr th:only-of-type {\n",
              "        vertical-align: middle;\n",
              "    }\n",
              "\n",
              "    .dataframe tbody tr th {\n",
              "        vertical-align: top;\n",
              "    }\n",
              "\n",
              "    .dataframe thead th {\n",
              "        text-align: right;\n",
              "    }\n",
              "</style>\n",
              "<table border=\"1\" class=\"dataframe\">\n",
              "  <thead>\n",
              "    <tr style=\"text-align: right;\">\n",
              "      <th></th>\n",
              "      <th>Formatted Date</th>\n",
              "      <th>Summary</th>\n",
              "      <th>PrecipType</th>\n",
              "      <th>Temperature</th>\n",
              "      <th>ApparentTemperature</th>\n",
              "      <th>Humidity</th>\n",
              "      <th>WindSpeed</th>\n",
              "      <th>WindBearings</th>\n",
              "      <th>Visibilty</th>\n",
              "      <th>Pressure</th>\n",
              "    </tr>\n",
              "  </thead>\n",
              "  <tbody>\n",
              "    <tr>\n",
              "      <th>0</th>\n",
              "      <td>2006-04-01 00:00:00.000 +0200</td>\n",
              "      <td>Partly Cloudy</td>\n",
              "      <td>0</td>\n",
              "      <td>9.472222</td>\n",
              "      <td>7.388889</td>\n",
              "      <td>0.89</td>\n",
              "      <td>14.1197</td>\n",
              "      <td>251</td>\n",
              "      <td>15.8263</td>\n",
              "      <td>1015.13</td>\n",
              "    </tr>\n",
              "    <tr>\n",
              "      <th>1</th>\n",
              "      <td>2006-04-01 01:00:00.000 +0200</td>\n",
              "      <td>Partly Cloudy</td>\n",
              "      <td>0</td>\n",
              "      <td>9.355556</td>\n",
              "      <td>7.227778</td>\n",
              "      <td>0.86</td>\n",
              "      <td>14.2646</td>\n",
              "      <td>259</td>\n",
              "      <td>15.8263</td>\n",
              "      <td>1015.63</td>\n",
              "    </tr>\n",
              "    <tr>\n",
              "      <th>2</th>\n",
              "      <td>2006-04-01 02:00:00.000 +0200</td>\n",
              "      <td>Mostly Cloudy</td>\n",
              "      <td>0</td>\n",
              "      <td>9.377778</td>\n",
              "      <td>9.377778</td>\n",
              "      <td>0.89</td>\n",
              "      <td>3.9284</td>\n",
              "      <td>204</td>\n",
              "      <td>14.9569</td>\n",
              "      <td>1015.94</td>\n",
              "    </tr>\n",
              "    <tr>\n",
              "      <th>3</th>\n",
              "      <td>2006-04-01 03:00:00.000 +0200</td>\n",
              "      <td>Partly Cloudy</td>\n",
              "      <td>0</td>\n",
              "      <td>8.288889</td>\n",
              "      <td>5.944444</td>\n",
              "      <td>0.83</td>\n",
              "      <td>14.1036</td>\n",
              "      <td>269</td>\n",
              "      <td>15.8263</td>\n",
              "      <td>1016.41</td>\n",
              "    </tr>\n",
              "    <tr>\n",
              "      <th>4</th>\n",
              "      <td>2006-04-01 04:00:00.000 +0200</td>\n",
              "      <td>Mostly Cloudy</td>\n",
              "      <td>0</td>\n",
              "      <td>8.755556</td>\n",
              "      <td>6.977778</td>\n",
              "      <td>0.83</td>\n",
              "      <td>11.0446</td>\n",
              "      <td>259</td>\n",
              "      <td>15.8263</td>\n",
              "      <td>1016.51</td>\n",
              "    </tr>\n",
              "  </tbody>\n",
              "</table>\n",
              "</div>"
            ],
            "text/plain": [
              "                  Formatted Date        Summary  PrecipType  Temperature  \\\n",
              "0  2006-04-01 00:00:00.000 +0200  Partly Cloudy           0     9.472222   \n",
              "1  2006-04-01 01:00:00.000 +0200  Partly Cloudy           0     9.355556   \n",
              "2  2006-04-01 02:00:00.000 +0200  Mostly Cloudy           0     9.377778   \n",
              "3  2006-04-01 03:00:00.000 +0200  Partly Cloudy           0     8.288889   \n",
              "4  2006-04-01 04:00:00.000 +0200  Mostly Cloudy           0     8.755556   \n",
              "\n",
              "   ApparentTemperature  Humidity  WindSpeed  WindBearings  Visibilty  Pressure  \n",
              "0             7.388889      0.89    14.1197           251    15.8263   1015.13  \n",
              "1             7.227778      0.86    14.2646           259    15.8263   1015.63  \n",
              "2             9.377778      0.89     3.9284           204    14.9569   1015.94  \n",
              "3             5.944444      0.83    14.1036           269    15.8263   1016.41  \n",
              "4             6.977778      0.83    11.0446           259    15.8263   1016.51  "
            ]
          },
          "execution_count": 22,
          "metadata": {},
          "output_type": "execute_result"
        }
      ],
      "source": [
        "df.head()"
      ]
    },
    {
      "cell_type": "code",
      "execution_count": null,
      "metadata": {
        "id": "msRFzdhf5apB",
        "outputId": "50a87b9a-e193-4cb2-c718-b6ab38e963c9"
      },
      "outputs": [
        {
          "name": "stdout",
          "output_type": "stream",
          "text": [
            "27\n"
          ]
        },
        {
          "data": {
            "text/plain": [
              "array(['Partly Cloudy', 'Mostly Cloudy', 'Overcast', 'Foggy',\n",
              "       'Breezy and Mostly Cloudy', 'Clear', 'Breezy and Partly Cloudy',\n",
              "       'Breezy and Overcast', 'Humid and Mostly Cloudy',\n",
              "       'Humid and Partly Cloudy', 'Windy and Foggy', 'Windy and Overcast',\n",
              "       'Breezy and Foggy', 'Windy and Partly Cloudy', 'Breezy',\n",
              "       'Dry and Partly Cloudy', 'Windy and Mostly Cloudy',\n",
              "       'Dangerously Windy and Partly Cloudy', 'Dry', 'Windy',\n",
              "       'Humid and Overcast', 'Light Rain', 'Drizzle', 'Windy and Dry',\n",
              "       'Dry and Mostly Cloudy', 'Breezy and Dry', 'Rain'], dtype=object)"
            ]
          },
          "execution_count": 23,
          "metadata": {},
          "output_type": "execute_result"
        }
      ],
      "source": [
        "print(len(df.Summary.unique()))\n",
        "df.Summary.unique()"
      ]
    },
    {
      "cell_type": "code",
      "execution_count": null,
      "metadata": {
        "id": "TGCr9Dwj5apB",
        "outputId": "35492297-57f7-4880-939d-a8ae5a2bbe7e"
      },
      "outputs": [
        {
          "name": "stderr",
          "output_type": "stream",
          "text": [
            "C:\\Users\\Dell\\AppData\\Local\\Temp\\ipykernel_6752\\743693678.py:3: SettingWithCopyWarning: \n",
            "A value is trying to be set on a copy of a slice from a DataFrame\n",
            "\n",
            "See the caveats in the documentation: https://pandas.pydata.org/pandas-docs/stable/user_guide/indexing.html#returning-a-view-versus-a-copy\n",
            "  df.Summary[:] = labelencoder_X.fit_transform(df.Summary[:])\n"
          ]
        }
      ],
      "source": [
        "from sklearn.preprocessing import LabelEncoder, OneHotEncoder\n",
        "labelencoder_X = LabelEncoder()\n",
        "df.Summary[:] = labelencoder_X.fit_transform(df.Summary[:])"
      ]
    },
    {
      "cell_type": "code",
      "execution_count": null,
      "metadata": {
        "id": "JHm3tr7X5apB",
        "outputId": "816c371d-4d8a-4143-a468-2b233e2f2bae"
      },
      "outputs": [
        {
          "data": {
            "text/plain": [
              "array([19, 17, 18, 12, 3, 6, 5, 4, 13, 15, 23, 25, 2, 26, 0, 11, 24, 7, 9,\n",
              "       21, 14, 16, 8, 22, 10, 1, 20], dtype=object)"
            ]
          },
          "execution_count": 25,
          "metadata": {},
          "output_type": "execute_result"
        }
      ],
      "source": [
        "df.Summary.unique()"
      ]
    },
    {
      "cell_type": "code",
      "execution_count": null,
      "metadata": {
        "id": "Q8w6sGoJ5apC",
        "outputId": "2b3ce2f8-6985-4278-9fc3-c9b5f049e27c"
      },
      "outputs": [
        {
          "name": "stdout",
          "output_type": "stream",
          "text": [
            "27\n"
          ]
        }
      ],
      "source": [
        "print(len(df.Summary.unique()))"
      ]
    },
    {
      "cell_type": "code",
      "execution_count": null,
      "metadata": {
        "id": "NvcMQTvJ5apC",
        "outputId": "43bc7d4f-10b6-40e5-c258-8e44153b8897"
      },
      "outputs": [
        {
          "data": {
            "text/html": [
              "<div>\n",
              "<style scoped>\n",
              "    .dataframe tbody tr th:only-of-type {\n",
              "        vertical-align: middle;\n",
              "    }\n",
              "\n",
              "    .dataframe tbody tr th {\n",
              "        vertical-align: top;\n",
              "    }\n",
              "\n",
              "    .dataframe thead th {\n",
              "        text-align: right;\n",
              "    }\n",
              "</style>\n",
              "<table border=\"1\" class=\"dataframe\">\n",
              "  <thead>\n",
              "    <tr style=\"text-align: right;\">\n",
              "      <th></th>\n",
              "      <th>Formatted Date</th>\n",
              "      <th>Summary</th>\n",
              "      <th>PrecipType</th>\n",
              "      <th>Temperature</th>\n",
              "      <th>ApparentTemperature</th>\n",
              "      <th>Humidity</th>\n",
              "      <th>WindSpeed</th>\n",
              "      <th>WindBearings</th>\n",
              "      <th>Visibilty</th>\n",
              "      <th>Pressure</th>\n",
              "    </tr>\n",
              "  </thead>\n",
              "  <tbody>\n",
              "    <tr>\n",
              "      <th>0</th>\n",
              "      <td>2006-04-01 00:00:00.000 +0200</td>\n",
              "      <td>19</td>\n",
              "      <td>0</td>\n",
              "      <td>9.472222</td>\n",
              "      <td>7.388889</td>\n",
              "      <td>0.89</td>\n",
              "      <td>14.1197</td>\n",
              "      <td>251</td>\n",
              "      <td>15.8263</td>\n",
              "      <td>1015.13</td>\n",
              "    </tr>\n",
              "    <tr>\n",
              "      <th>1</th>\n",
              "      <td>2006-04-01 01:00:00.000 +0200</td>\n",
              "      <td>19</td>\n",
              "      <td>0</td>\n",
              "      <td>9.355556</td>\n",
              "      <td>7.227778</td>\n",
              "      <td>0.86</td>\n",
              "      <td>14.2646</td>\n",
              "      <td>259</td>\n",
              "      <td>15.8263</td>\n",
              "      <td>1015.63</td>\n",
              "    </tr>\n",
              "    <tr>\n",
              "      <th>2</th>\n",
              "      <td>2006-04-01 02:00:00.000 +0200</td>\n",
              "      <td>17</td>\n",
              "      <td>0</td>\n",
              "      <td>9.377778</td>\n",
              "      <td>9.377778</td>\n",
              "      <td>0.89</td>\n",
              "      <td>3.9284</td>\n",
              "      <td>204</td>\n",
              "      <td>14.9569</td>\n",
              "      <td>1015.94</td>\n",
              "    </tr>\n",
              "    <tr>\n",
              "      <th>3</th>\n",
              "      <td>2006-04-01 03:00:00.000 +0200</td>\n",
              "      <td>19</td>\n",
              "      <td>0</td>\n",
              "      <td>8.288889</td>\n",
              "      <td>5.944444</td>\n",
              "      <td>0.83</td>\n",
              "      <td>14.1036</td>\n",
              "      <td>269</td>\n",
              "      <td>15.8263</td>\n",
              "      <td>1016.41</td>\n",
              "    </tr>\n",
              "    <tr>\n",
              "      <th>4</th>\n",
              "      <td>2006-04-01 04:00:00.000 +0200</td>\n",
              "      <td>17</td>\n",
              "      <td>0</td>\n",
              "      <td>8.755556</td>\n",
              "      <td>6.977778</td>\n",
              "      <td>0.83</td>\n",
              "      <td>11.0446</td>\n",
              "      <td>259</td>\n",
              "      <td>15.8263</td>\n",
              "      <td>1016.51</td>\n",
              "    </tr>\n",
              "  </tbody>\n",
              "</table>\n",
              "</div>"
            ],
            "text/plain": [
              "                  Formatted Date Summary  PrecipType  Temperature  \\\n",
              "0  2006-04-01 00:00:00.000 +0200      19           0     9.472222   \n",
              "1  2006-04-01 01:00:00.000 +0200      19           0     9.355556   \n",
              "2  2006-04-01 02:00:00.000 +0200      17           0     9.377778   \n",
              "3  2006-04-01 03:00:00.000 +0200      19           0     8.288889   \n",
              "4  2006-04-01 04:00:00.000 +0200      17           0     8.755556   \n",
              "\n",
              "   ApparentTemperature  Humidity  WindSpeed  WindBearings  Visibilty  Pressure  \n",
              "0             7.388889      0.89    14.1197           251    15.8263   1015.13  \n",
              "1             7.227778      0.86    14.2646           259    15.8263   1015.63  \n",
              "2             9.377778      0.89     3.9284           204    14.9569   1015.94  \n",
              "3             5.944444      0.83    14.1036           269    15.8263   1016.41  \n",
              "4             6.977778      0.83    11.0446           259    15.8263   1016.51  "
            ]
          },
          "execution_count": 27,
          "metadata": {},
          "output_type": "execute_result"
        }
      ],
      "source": [
        "df.head()"
      ]
    },
    {
      "cell_type": "code",
      "execution_count": null,
      "metadata": {
        "id": "FqLZaPwx5apD"
      },
      "outputs": [],
      "source": [
        "# convert series to supervised learning \n",
        "def series_to_supervised(data, n_in=1, n_out=1, dropnan=True): \n",
        "    n_vars = 1 if type(data) is list else data.shape[1] \n",
        "    df = pd.DataFrame(data) \n",
        "    cols, names = list(), list() \n",
        "    # input sequence (t-n, ... t-1) \n",
        "    for i in range(n_in, 0, -1):  \n",
        "        cols.append(df.shift(i))  \n",
        "        names += [('var%d(t-%d)' % (j+1, i)) for j in range(n_vars)] \n",
        "    # forecast sequence (t, t+1, ... t+n) \n",
        "    for i in range(0, n_out):  \n",
        "        cols.append(df.shift(-i))  \n",
        "        if i == 0:   \n",
        "            names += [('var%d(t)' % (j+1)) for j in range(n_vars)]  \n",
        "        else:   \n",
        "            names += [('var%d(t+%d)' % (j+1, i)) for j in range(n_vars)] \n",
        "    # put it all together \n",
        "    agg = pd.concat(cols, axis=1) \n",
        "    agg.columns = names \n",
        "    # drop rows with NaN values \n",
        "    if dropnan:  \n",
        "        agg.dropna(inplace=True) \n",
        "    return agg "
      ]
    },
    {
      "cell_type": "code",
      "execution_count": null,
      "metadata": {
        "id": "1Na-ELRD5apD"
      },
      "outputs": [],
      "source": [
        "df=df.drop('Formatted Date',axis=1)"
      ]
    },
    {
      "cell_type": "code",
      "execution_count": null,
      "metadata": {
        "id": "voLKdw9l5apD"
      },
      "outputs": [],
      "source": [
        "df.index.name='date'"
      ]
    },
    {
      "cell_type": "code",
      "execution_count": null,
      "metadata": {
        "id": "tc91E1Ch5apD",
        "outputId": "824387b7-4b75-4415-e60d-835011ac4174"
      },
      "outputs": [
        {
          "data": {
            "text/html": [
              "<div>\n",
              "<style scoped>\n",
              "    .dataframe tbody tr th:only-of-type {\n",
              "        vertical-align: middle;\n",
              "    }\n",
              "\n",
              "    .dataframe tbody tr th {\n",
              "        vertical-align: top;\n",
              "    }\n",
              "\n",
              "    .dataframe thead th {\n",
              "        text-align: right;\n",
              "    }\n",
              "</style>\n",
              "<table border=\"1\" class=\"dataframe\">\n",
              "  <thead>\n",
              "    <tr style=\"text-align: right;\">\n",
              "      <th></th>\n",
              "      <th>Summary</th>\n",
              "      <th>PrecipType</th>\n",
              "      <th>Temperature</th>\n",
              "      <th>ApparentTemperature</th>\n",
              "      <th>Humidity</th>\n",
              "      <th>WindSpeed</th>\n",
              "      <th>WindBearings</th>\n",
              "      <th>Visibilty</th>\n",
              "      <th>Pressure</th>\n",
              "    </tr>\n",
              "    <tr>\n",
              "      <th>date</th>\n",
              "      <th></th>\n",
              "      <th></th>\n",
              "      <th></th>\n",
              "      <th></th>\n",
              "      <th></th>\n",
              "      <th></th>\n",
              "      <th></th>\n",
              "      <th></th>\n",
              "      <th></th>\n",
              "    </tr>\n",
              "  </thead>\n",
              "  <tbody>\n",
              "    <tr>\n",
              "      <th>0</th>\n",
              "      <td>19</td>\n",
              "      <td>0</td>\n",
              "      <td>9.472222</td>\n",
              "      <td>7.388889</td>\n",
              "      <td>0.89</td>\n",
              "      <td>14.1197</td>\n",
              "      <td>251</td>\n",
              "      <td>15.8263</td>\n",
              "      <td>1015.13</td>\n",
              "    </tr>\n",
              "    <tr>\n",
              "      <th>1</th>\n",
              "      <td>19</td>\n",
              "      <td>0</td>\n",
              "      <td>9.355556</td>\n",
              "      <td>7.227778</td>\n",
              "      <td>0.86</td>\n",
              "      <td>14.2646</td>\n",
              "      <td>259</td>\n",
              "      <td>15.8263</td>\n",
              "      <td>1015.63</td>\n",
              "    </tr>\n",
              "    <tr>\n",
              "      <th>2</th>\n",
              "      <td>17</td>\n",
              "      <td>0</td>\n",
              "      <td>9.377778</td>\n",
              "      <td>9.377778</td>\n",
              "      <td>0.89</td>\n",
              "      <td>3.9284</td>\n",
              "      <td>204</td>\n",
              "      <td>14.9569</td>\n",
              "      <td>1015.94</td>\n",
              "    </tr>\n",
              "    <tr>\n",
              "      <th>3</th>\n",
              "      <td>19</td>\n",
              "      <td>0</td>\n",
              "      <td>8.288889</td>\n",
              "      <td>5.944444</td>\n",
              "      <td>0.83</td>\n",
              "      <td>14.1036</td>\n",
              "      <td>269</td>\n",
              "      <td>15.8263</td>\n",
              "      <td>1016.41</td>\n",
              "    </tr>\n",
              "    <tr>\n",
              "      <th>4</th>\n",
              "      <td>17</td>\n",
              "      <td>0</td>\n",
              "      <td>8.755556</td>\n",
              "      <td>6.977778</td>\n",
              "      <td>0.83</td>\n",
              "      <td>11.0446</td>\n",
              "      <td>259</td>\n",
              "      <td>15.8263</td>\n",
              "      <td>1016.51</td>\n",
              "    </tr>\n",
              "  </tbody>\n",
              "</table>\n",
              "</div>"
            ],
            "text/plain": [
              "     Summary  PrecipType  Temperature  ApparentTemperature  Humidity  \\\n",
              "date                                                                   \n",
              "0         19           0     9.472222             7.388889      0.89   \n",
              "1         19           0     9.355556             7.227778      0.86   \n",
              "2         17           0     9.377778             9.377778      0.89   \n",
              "3         19           0     8.288889             5.944444      0.83   \n",
              "4         17           0     8.755556             6.977778      0.83   \n",
              "\n",
              "      WindSpeed  WindBearings  Visibilty  Pressure  \n",
              "date                                                \n",
              "0       14.1197           251    15.8263   1015.13  \n",
              "1       14.2646           259    15.8263   1015.63  \n",
              "2        3.9284           204    14.9569   1015.94  \n",
              "3       14.1036           269    15.8263   1016.41  \n",
              "4       11.0446           259    15.8263   1016.51  "
            ]
          },
          "execution_count": 32,
          "metadata": {},
          "output_type": "execute_result"
        }
      ],
      "source": [
        "df.head()"
      ]
    },
    {
      "cell_type": "code",
      "execution_count": null,
      "metadata": {
        "id": "wn6FJYXI5apE"
      },
      "outputs": [],
      "source": [
        "df=df.drop('ApparentTemperature',axis=1)"
      ]
    },
    {
      "cell_type": "code",
      "execution_count": null,
      "metadata": {
        "id": "DGRsQT4D5apE"
      },
      "outputs": [],
      "source": [
        "df.to_csv(\"weather.csv\")"
      ]
    },
    {
      "cell_type": "code",
      "execution_count": null,
      "metadata": {
        "id": "F7IOYFbz5apE",
        "outputId": "a9f63090-6140-432c-d15e-ec113ad755bf"
      },
      "outputs": [
        {
          "data": {
            "text/html": [
              "<div>\n",
              "<style scoped>\n",
              "    .dataframe tbody tr th:only-of-type {\n",
              "        vertical-align: middle;\n",
              "    }\n",
              "\n",
              "    .dataframe tbody tr th {\n",
              "        vertical-align: top;\n",
              "    }\n",
              "\n",
              "    .dataframe thead th {\n",
              "        text-align: right;\n",
              "    }\n",
              "</style>\n",
              "<table border=\"1\" class=\"dataframe\">\n",
              "  <thead>\n",
              "    <tr style=\"text-align: right;\">\n",
              "      <th></th>\n",
              "      <th>Summary</th>\n",
              "      <th>PrecipType</th>\n",
              "      <th>Temperature</th>\n",
              "      <th>Humidity</th>\n",
              "      <th>WindSpeed</th>\n",
              "      <th>WindBearings</th>\n",
              "      <th>Visibilty</th>\n",
              "      <th>Pressure</th>\n",
              "    </tr>\n",
              "    <tr>\n",
              "      <th>date</th>\n",
              "      <th></th>\n",
              "      <th></th>\n",
              "      <th></th>\n",
              "      <th></th>\n",
              "      <th></th>\n",
              "      <th></th>\n",
              "      <th></th>\n",
              "      <th></th>\n",
              "    </tr>\n",
              "  </thead>\n",
              "  <tbody>\n",
              "    <tr>\n",
              "      <th>0</th>\n",
              "      <td>19</td>\n",
              "      <td>0</td>\n",
              "      <td>9.472222</td>\n",
              "      <td>0.89</td>\n",
              "      <td>14.1197</td>\n",
              "      <td>251</td>\n",
              "      <td>15.8263</td>\n",
              "      <td>1015.13</td>\n",
              "    </tr>\n",
              "    <tr>\n",
              "      <th>1</th>\n",
              "      <td>19</td>\n",
              "      <td>0</td>\n",
              "      <td>9.355556</td>\n",
              "      <td>0.86</td>\n",
              "      <td>14.2646</td>\n",
              "      <td>259</td>\n",
              "      <td>15.8263</td>\n",
              "      <td>1015.63</td>\n",
              "    </tr>\n",
              "    <tr>\n",
              "      <th>2</th>\n",
              "      <td>17</td>\n",
              "      <td>0</td>\n",
              "      <td>9.377778</td>\n",
              "      <td>0.89</td>\n",
              "      <td>3.9284</td>\n",
              "      <td>204</td>\n",
              "      <td>14.9569</td>\n",
              "      <td>1015.94</td>\n",
              "    </tr>\n",
              "    <tr>\n",
              "      <th>3</th>\n",
              "      <td>19</td>\n",
              "      <td>0</td>\n",
              "      <td>8.288889</td>\n",
              "      <td>0.83</td>\n",
              "      <td>14.1036</td>\n",
              "      <td>269</td>\n",
              "      <td>15.8263</td>\n",
              "      <td>1016.41</td>\n",
              "    </tr>\n",
              "    <tr>\n",
              "      <th>4</th>\n",
              "      <td>17</td>\n",
              "      <td>0</td>\n",
              "      <td>8.755556</td>\n",
              "      <td>0.83</td>\n",
              "      <td>11.0446</td>\n",
              "      <td>259</td>\n",
              "      <td>15.8263</td>\n",
              "      <td>1016.51</td>\n",
              "    </tr>\n",
              "  </tbody>\n",
              "</table>\n",
              "</div>"
            ],
            "text/plain": [
              "     Summary  PrecipType  Temperature  Humidity  WindSpeed  WindBearings  \\\n",
              "date                                                                       \n",
              "0         19           0     9.472222      0.89    14.1197           251   \n",
              "1         19           0     9.355556      0.86    14.2646           259   \n",
              "2         17           0     9.377778      0.89     3.9284           204   \n",
              "3         19           0     8.288889      0.83    14.1036           269   \n",
              "4         17           0     8.755556      0.83    11.0446           259   \n",
              "\n",
              "      Visibilty  Pressure  \n",
              "date                       \n",
              "0       15.8263   1015.13  \n",
              "1       15.8263   1015.63  \n",
              "2       14.9569   1015.94  \n",
              "3       15.8263   1016.41  \n",
              "4       15.8263   1016.51  "
            ]
          },
          "execution_count": 35,
          "metadata": {},
          "output_type": "execute_result"
        }
      ],
      "source": [
        "df.head()"
      ]
    },
    {
      "cell_type": "code",
      "execution_count": null,
      "metadata": {
        "id": "DsZ4YNQ45apE",
        "outputId": "d53e0174-c6c8-43fd-a84f-397aead654a9"
      },
      "outputs": [
        {
          "name": "stdout",
          "output_type": "stream",
          "text": [
            "-21.82222222\n"
          ]
        },
        {
          "data": {
            "text/plain": [
              "39.90555556"
            ]
          },
          "execution_count": 36,
          "metadata": {},
          "output_type": "execute_result"
        }
      ],
      "source": [
        "data=df.values\n",
        "print(df.Temperature.min())\n",
        "df.Temperature.max()"
      ]
    },
    {
      "cell_type": "code",
      "execution_count": null,
      "metadata": {
        "id": "qFVzHQAl5apF"
      },
      "outputs": [],
      "source": [
        "# ensure all data is float\n",
        "data=data.astype('float32')"
      ]
    },
    {
      "cell_type": "code",
      "execution_count": null,
      "metadata": {
        "id": "8W5txbcL5apF"
      },
      "outputs": [],
      "source": [
        "# normalize features\n",
        "scaler=MinMaxScaler(feature_range=(0,1))\n",
        "scaled = scaler.fit_transform(data)"
      ]
    },
    {
      "cell_type": "code",
      "execution_count": null,
      "metadata": {
        "id": "5sMsdQcc5apF"
      },
      "outputs": [],
      "source": [
        "# specify no. of lag hours\n",
        "n_hours = 3\n",
        "n_features = 8"
      ]
    },
    {
      "cell_type": "code",
      "execution_count": null,
      "metadata": {
        "id": "CBm6hiDk5apF",
        "outputId": "77e8145f-8ebd-4aa5-cee3-c6c19fbccf99"
      },
      "outputs": [
        {
          "name": "stdout",
          "output_type": "stream",
          "text": [
            "(96450, 32)\n"
          ]
        }
      ],
      "source": [
        "# frame as supervised learning\n",
        "reframed = series_to_supervised(scaled,n_hours,1)\n",
        "print(reframed.shape)"
      ]
    },
    {
      "cell_type": "code",
      "execution_count": null,
      "metadata": {
        "id": "0ZEarVoz5apF",
        "outputId": "58818183-fca7-46e4-cb07-538aaf78d106"
      },
      "outputs": [
        {
          "name": "stdout",
          "output_type": "stream",
          "text": [
            "       var1(t-3)  var2(t-3)  var3(t-3)  var4(t-3)  var5(t-3)  var6(t-3)  \\\n",
            "3       0.730769        0.0   0.506975       0.89   0.221130   0.699164   \n",
            "4       0.730769        0.0   0.505085       0.86   0.223399   0.721448   \n",
            "5       0.653846        0.0   0.505445       0.89   0.061523   0.568245   \n",
            "6       0.730769        0.0   0.487805       0.83   0.220877   0.749304   \n",
            "7       0.653846        0.0   0.495365       0.83   0.172970   0.721448   \n",
            "...          ...        ...        ...        ...        ...        ...   \n",
            "96448   0.730769        0.0   0.857079       0.28   0.217600   0.111421   \n",
            "96449   0.730769        0.0   0.851949       0.28   0.222642   0.066852   \n",
            "96450   0.730769        0.0   0.820718       0.32   0.191125   0.058496   \n",
            "96451   0.730769        0.0   0.774998       0.43   0.172214   0.086351   \n",
            "96452   0.730769        0.0   0.751778       0.48   0.158094   0.055710   \n",
            "\n",
            "       var7(t-3)  var8(t-3)  var1(t-2)  var2(t-2)  ...  var7(t-1)  var8(t-1)  \\\n",
            "3          0.983   0.970135   0.730769        0.0  ...      0.929   0.970909   \n",
            "4          0.983   0.970613   0.653846        0.0  ...      0.983   0.971358   \n",
            "5          0.929   0.970909   0.730769        0.0  ...      0.983   0.971454   \n",
            "6          0.983   0.971358   0.653846        0.0  ...      0.929   0.971597   \n",
            "7          0.983   0.971454   0.730769        0.0  ...      0.620   0.971655   \n",
            "...          ...        ...        ...        ...  ...        ...        ...   \n",
            "96448      1.000   0.969027   0.730769        0.0  ...      1.000   0.969122   \n",
            "96449      0.966   0.968893   0.730769        0.0  ...      1.000   0.969399   \n",
            "96450      1.000   0.969122   0.730769        0.0  ...      0.966   0.970164   \n",
            "96451      1.000   0.969399   0.730769        0.0  ...      1.000   0.970642   \n",
            "96452      0.966   0.970164   0.730769        0.0  ...      1.000   0.970919   \n",
            "\n",
            "        var1(t)  var2(t)   var3(t)  var4(t)   var5(t)   var6(t)  var7(t)  \\\n",
            "3      0.730769      0.0  0.487805     0.83  0.220877  0.749304    0.983   \n",
            "4      0.653846      0.0  0.495365     0.83  0.172970  0.721448    0.983   \n",
            "5      0.730769      0.0  0.502925     0.85  0.218608  0.718663    0.929   \n",
            "6      0.730769      0.0  0.478805     0.95  0.193646  0.721448    0.620   \n",
            "7      0.730769      0.0  0.495635     0.89  0.221634  0.724234    0.620   \n",
            "...         ...      ...       ...      ...       ...       ...      ...   \n",
            "96448  0.730769      0.0  0.774998     0.43  0.172214  0.086351    1.000   \n",
            "96449  0.730769      0.0  0.751778     0.48  0.158094  0.055710    0.966   \n",
            "96450  0.730769      0.0  0.710557     0.56  0.140696  0.083565    1.000   \n",
            "96451  0.730769      0.0  0.702187     0.60  0.164902  0.055710    1.000   \n",
            "96452  0.730769      0.0  0.684637     0.61  0.092032  0.108635    0.964   \n",
            "\n",
            "        var8(t)  \n",
            "3      0.971358  \n",
            "4      0.971454  \n",
            "5      0.971597  \n",
            "6      0.971655  \n",
            "7      0.971769  \n",
            "...         ...  \n",
            "96448  0.969399  \n",
            "96449  0.970164  \n",
            "96450  0.970642  \n",
            "96451  0.970919  \n",
            "96452  0.971119  \n",
            "\n",
            "[96450 rows x 32 columns]\n"
          ]
        }
      ],
      "source": [
        "print(reframed)"
      ]
    },
    {
      "cell_type": "code",
      "execution_count": null,
      "metadata": {
        "id": "usxuK0to5apF"
      },
      "outputs": [],
      "source": [
        "values = reframed.values"
      ]
    },
    {
      "cell_type": "code",
      "execution_count": null,
      "metadata": {
        "id": "kWJUzhq15apG"
      },
      "outputs": [],
      "source": [
        "n_train_hours=365*24"
      ]
    },
    {
      "cell_type": "code",
      "execution_count": null,
      "metadata": {
        "id": "7Y_CDDQn5apG"
      },
      "outputs": [],
      "source": [
        "train = values[:n_train_hours,:]\n",
        "test = values[n_train_hours:, : ]"
      ]
    },
    {
      "cell_type": "code",
      "execution_count": null,
      "metadata": {
        "id": "dU5AWmdN5apG"
      },
      "outputs": [],
      "source": [
        "# split into input and outputs\n",
        "n_obs = n_hours * n_features\n",
        "train_X,train_Y = train[:,:n_obs],train[:,-6]   # as at 6th no. from last is temp. our o/p var\n",
        "test_X,test_Y = test[:,:n_obs],test[:,-6]"
      ]
    },
    {
      "cell_type": "code",
      "execution_count": null,
      "metadata": {
        "id": "dkPu8H7G5apG",
        "outputId": "8b0bfefd-b703-46e0-da8c-ae228217e692"
      },
      "outputs": [
        {
          "name": "stdout",
          "output_type": "stream",
          "text": [
            "[0.5386554  0.53757536 0.5223652  ... 0.7105571  0.70218706 0.68463683]\n"
          ]
        }
      ],
      "source": [
        "print(test_Y)"
      ]
    },
    {
      "cell_type": "code",
      "execution_count": null,
      "metadata": {
        "id": "YpgkJvH95apG",
        "outputId": "30d75fdb-2c17-4837-e7c7-313a35ae4526"
      },
      "outputs": [
        {
          "name": "stdout",
          "output_type": "stream",
          "text": [
            "(8760, 24) 8760 (8760,)\n"
          ]
        }
      ],
      "source": [
        "print(train_X.shape,len(train_X),train_Y.shape)"
      ]
    },
    {
      "cell_type": "code",
      "execution_count": null,
      "metadata": {
        "id": "36D6bw515apG",
        "outputId": "161decfb-f98b-467f-fc07-fc23363cacd7"
      },
      "outputs": [
        {
          "name": "stdout",
          "output_type": "stream",
          "text": [
            "(8760, 3, 8) (8760,) (87690, 3, 8) (87690,)\n"
          ]
        }
      ],
      "source": [
        "# reshape input to be 3D [samples, timesteps, fetures]\n",
        "train_X = train_X.reshape((train_X.shape[0],n_hours,n_features))\n",
        "test_X = test_X.reshape((test_X.shape[0],n_hours,n_features))  # 24 = 3 * 8\n",
        "print(train_X.shape, train_Y.shape, test_X.shape, test_Y.shape)"
      ]
    },
    {
      "cell_type": "code",
      "execution_count": null,
      "metadata": {
        "id": "0DSk1D905apG",
        "outputId": "4dfa8ce4-b42d-4395-9bf1-52cc5652759e"
      },
      "outputs": [
        {
          "name": "stdout",
          "output_type": "stream",
          "text": [
            "16\n"
          ]
        }
      ],
      "source": [
        "hidden_nodes = int(2/3 * (train_X.shape[1] * train_X.shape[2]))\n",
        "print(hidden_nodes)"
      ]
    },
    {
      "cell_type": "code",
      "execution_count": null,
      "metadata": {
        "id": "ZBwOVCDq5apH"
      },
      "outputs": [],
      "source": [
        "# design network\n",
        "model = Sequential()\n",
        "model.add(LSTM(30, input_shape=(train_X.shape[1], train_X.shape[2])))    # input_shape=(no. of i/p, dimension), result=(1,50)\n",
        "# test\n",
        "model.add(Dense(256,name='FC1'))  #256\n",
        "model.add(Activation('relu'))\n",
        "model.add(Dropout(0.2))\n",
        "# end\n",
        "model.add(Dense(1,name='out_layer'))\n",
        "model.compile(loss='mean_squared_error',optimizer='adam', metrics=['mean_squared_error'])"
      ]
    },
    {
      "cell_type": "code",
      "execution_count": null,
      "metadata": {
        "id": "j3CJfSg55apH",
        "outputId": "91351526-0259-4540-b937-5c5dff16593f"
      },
      "outputs": [
        {
          "name": "stdout",
          "output_type": "stream",
          "text": [
            "Model: \"sequential\"\n",
            "_________________________________________________________________\n",
            " Layer (type)                Output Shape              Param #   \n",
            "=================================================================\n",
            " lstm (LSTM)                 (None, 30)                4680      \n",
            "                                                                 \n",
            " FC1 (Dense)                 (None, 256)               7936      \n",
            "                                                                 \n",
            " activation (Activation)     (None, 256)               0         \n",
            "                                                                 \n",
            " dropout (Dropout)           (None, 256)               0         \n",
            "                                                                 \n",
            " out_layer (Dense)           (None, 1)                 257       \n",
            "                                                                 \n",
            "=================================================================\n",
            "Total params: 12,873\n",
            "Trainable params: 12,873\n",
            "Non-trainable params: 0\n",
            "_________________________________________________________________\n"
          ]
        }
      ],
      "source": [
        "model.summary()"
      ]
    },
    {
      "cell_type": "code",
      "execution_count": null,
      "metadata": {
        "id": "K1RwYhJY5apH",
        "outputId": "5c454c24-b634-4c56-8e68-0a5c78efa642"
      },
      "outputs": [
        {
          "name": "stdout",
          "output_type": "stream",
          "text": [
            "Epoch 1/100\n",
            "69/69 - 7s - loss: 0.0590 - mean_squared_error: 0.0590 - val_loss: 0.0129 - val_mean_squared_error: 0.0129 - 7s/epoch - 101ms/step\n",
            "Epoch 2/100\n",
            "69/69 - 2s - loss: 0.0178 - mean_squared_error: 0.0178 - val_loss: 0.0102 - val_mean_squared_error: 0.0102 - 2s/epoch - 29ms/step\n",
            "Epoch 3/100\n",
            "69/69 - 2s - loss: 0.0123 - mean_squared_error: 0.0123 - val_loss: 0.0085 - val_mean_squared_error: 0.0085 - 2s/epoch - 30ms/step\n",
            "Epoch 4/100\n",
            "69/69 - 2s - loss: 0.0080 - mean_squared_error: 0.0080 - val_loss: 0.0054 - val_mean_squared_error: 0.0054 - 2s/epoch - 29ms/step\n",
            "Epoch 5/100\n",
            "69/69 - 2s - loss: 0.0053 - mean_squared_error: 0.0053 - val_loss: 0.0023 - val_mean_squared_error: 0.0023 - 2s/epoch - 29ms/step\n",
            "Epoch 6/100\n",
            "69/69 - 2s - loss: 0.0036 - mean_squared_error: 0.0036 - val_loss: 0.0018 - val_mean_squared_error: 0.0018 - 2s/epoch - 29ms/step\n",
            "Epoch 7/100\n",
            "69/69 - 2s - loss: 0.0030 - mean_squared_error: 0.0030 - val_loss: 0.0018 - val_mean_squared_error: 0.0018 - 2s/epoch - 31ms/step\n",
            "Epoch 8/100\n",
            "69/69 - 2s - loss: 0.0028 - mean_squared_error: 0.0028 - val_loss: 0.0019 - val_mean_squared_error: 0.0019 - 2s/epoch - 29ms/step\n",
            "Epoch 9/100\n",
            "69/69 - 2s - loss: 0.0026 - mean_squared_error: 0.0026 - val_loss: 0.0017 - val_mean_squared_error: 0.0017 - 2s/epoch - 29ms/step\n",
            "Epoch 10/100\n",
            "69/69 - 2s - loss: 0.0025 - mean_squared_error: 0.0025 - val_loss: 0.0015 - val_mean_squared_error: 0.0015 - 2s/epoch - 29ms/step\n",
            "Epoch 11/100\n",
            "69/69 - 2s - loss: 0.0025 - mean_squared_error: 0.0025 - val_loss: 0.0017 - val_mean_squared_error: 0.0017 - 2s/epoch - 29ms/step\n",
            "Epoch 12/100\n",
            "69/69 - 2s - loss: 0.0024 - mean_squared_error: 0.0024 - val_loss: 0.0014 - val_mean_squared_error: 0.0014 - 2s/epoch - 29ms/step\n",
            "Epoch 13/100\n",
            "69/69 - 2s - loss: 0.0023 - mean_squared_error: 0.0023 - val_loss: 0.0015 - val_mean_squared_error: 0.0015 - 2s/epoch - 29ms/step\n",
            "Epoch 14/100\n",
            "69/69 - 2s - loss: 0.0023 - mean_squared_error: 0.0023 - val_loss: 0.0014 - val_mean_squared_error: 0.0014 - 2s/epoch - 29ms/step\n",
            "Epoch 15/100\n",
            "69/69 - 2s - loss: 0.0022 - mean_squared_error: 0.0022 - val_loss: 0.0015 - val_mean_squared_error: 0.0015 - 2s/epoch - 29ms/step\n",
            "Epoch 16/100\n",
            "69/69 - 2s - loss: 0.0022 - mean_squared_error: 0.0022 - val_loss: 0.0013 - val_mean_squared_error: 0.0013 - 2s/epoch - 29ms/step\n",
            "Epoch 17/100\n",
            "69/69 - 2s - loss: 0.0021 - mean_squared_error: 0.0021 - val_loss: 0.0012 - val_mean_squared_error: 0.0012 - 2s/epoch - 29ms/step\n",
            "Epoch 18/100\n",
            "69/69 - 2s - loss: 0.0020 - mean_squared_error: 0.0020 - val_loss: 0.0014 - val_mean_squared_error: 0.0014 - 2s/epoch - 30ms/step\n",
            "Epoch 19/100\n",
            "69/69 - 2s - loss: 0.0020 - mean_squared_error: 0.0020 - val_loss: 0.0013 - val_mean_squared_error: 0.0013 - 2s/epoch - 29ms/step\n",
            "Epoch 20/100\n",
            "69/69 - 2s - loss: 0.0020 - mean_squared_error: 0.0020 - val_loss: 0.0012 - val_mean_squared_error: 0.0012 - 2s/epoch - 29ms/step\n",
            "Epoch 21/100\n",
            "69/69 - 2s - loss: 0.0022 - mean_squared_error: 0.0022 - val_loss: 0.0012 - val_mean_squared_error: 0.0012 - 2s/epoch - 29ms/step\n",
            "Epoch 22/100\n",
            "69/69 - 2s - loss: 0.0021 - mean_squared_error: 0.0021 - val_loss: 0.0013 - val_mean_squared_error: 0.0013 - 2s/epoch - 29ms/step\n",
            "Epoch 23/100\n",
            "69/69 - 2s - loss: 0.0020 - mean_squared_error: 0.0020 - val_loss: 0.0013 - val_mean_squared_error: 0.0013 - 2s/epoch - 29ms/step\n",
            "Epoch 24/100\n",
            "69/69 - 2s - loss: 0.0019 - mean_squared_error: 0.0019 - val_loss: 0.0012 - val_mean_squared_error: 0.0012 - 2s/epoch - 29ms/step\n",
            "Epoch 25/100\n",
            "69/69 - 2s - loss: 0.0019 - mean_squared_error: 0.0019 - val_loss: 9.7676e-04 - val_mean_squared_error: 9.7676e-04 - 2s/epoch - 29ms/step\n",
            "Epoch 26/100\n",
            "69/69 - 2s - loss: 0.0019 - mean_squared_error: 0.0019 - val_loss: 0.0011 - val_mean_squared_error: 0.0011 - 2s/epoch - 29ms/step\n",
            "Epoch 27/100\n",
            "69/69 - 2s - loss: 0.0018 - mean_squared_error: 0.0018 - val_loss: 0.0011 - val_mean_squared_error: 0.0011 - 2s/epoch - 30ms/step\n",
            "Epoch 28/100\n",
            "69/69 - 2s - loss: 0.0019 - mean_squared_error: 0.0019 - val_loss: 9.9496e-04 - val_mean_squared_error: 9.9496e-04 - 2s/epoch - 29ms/step\n",
            "Epoch 29/100\n",
            "69/69 - 2s - loss: 0.0018 - mean_squared_error: 0.0018 - val_loss: 0.0011 - val_mean_squared_error: 0.0011 - 2s/epoch - 30ms/step\n",
            "Epoch 30/100\n",
            "69/69 - 2s - loss: 0.0019 - mean_squared_error: 0.0019 - val_loss: 0.0010 - val_mean_squared_error: 0.0010 - 2s/epoch - 29ms/step\n",
            "Epoch 31/100\n",
            "69/69 - 2s - loss: 0.0018 - mean_squared_error: 0.0018 - val_loss: 0.0010 - val_mean_squared_error: 0.0010 - 2s/epoch - 29ms/step\n",
            "Epoch 32/100\n",
            "69/69 - 2s - loss: 0.0017 - mean_squared_error: 0.0017 - val_loss: 9.3797e-04 - val_mean_squared_error: 9.3797e-04 - 2s/epoch - 29ms/step\n",
            "Epoch 33/100\n",
            "69/69 - 2s - loss: 0.0017 - mean_squared_error: 0.0017 - val_loss: 9.2212e-04 - val_mean_squared_error: 9.2212e-04 - 2s/epoch - 29ms/step\n",
            "Epoch 34/100\n",
            "69/69 - 2s - loss: 0.0017 - mean_squared_error: 0.0017 - val_loss: 9.1513e-04 - val_mean_squared_error: 9.1513e-04 - 2s/epoch - 29ms/step\n",
            "Epoch 35/100\n",
            "69/69 - 2s - loss: 0.0017 - mean_squared_error: 0.0017 - val_loss: 8.4854e-04 - val_mean_squared_error: 8.4854e-04 - 2s/epoch - 30ms/step\n",
            "Epoch 36/100\n",
            "69/69 - 2s - loss: 0.0016 - mean_squared_error: 0.0016 - val_loss: 8.5482e-04 - val_mean_squared_error: 8.5482e-04 - 2s/epoch - 31ms/step\n",
            "Epoch 37/100\n",
            "69/69 - 2s - loss: 0.0017 - mean_squared_error: 0.0017 - val_loss: 0.0011 - val_mean_squared_error: 0.0011 - 2s/epoch - 29ms/step\n",
            "Epoch 38/100\n",
            "69/69 - 2s - loss: 0.0018 - mean_squared_error: 0.0018 - val_loss: 0.0011 - val_mean_squared_error: 0.0011 - 2s/epoch - 29ms/step\n",
            "Epoch 39/100\n",
            "69/69 - 2s - loss: 0.0016 - mean_squared_error: 0.0016 - val_loss: 8.5869e-04 - val_mean_squared_error: 8.5869e-04 - 2s/epoch - 30ms/step\n",
            "Epoch 40/100\n",
            "69/69 - 2s - loss: 0.0015 - mean_squared_error: 0.0015 - val_loss: 8.8512e-04 - val_mean_squared_error: 8.8512e-04 - 2s/epoch - 29ms/step\n",
            "Epoch 41/100\n",
            "69/69 - 2s - loss: 0.0015 - mean_squared_error: 0.0015 - val_loss: 8.2271e-04 - val_mean_squared_error: 8.2271e-04 - 2s/epoch - 29ms/step\n",
            "Epoch 42/100\n",
            "69/69 - 2s - loss: 0.0015 - mean_squared_error: 0.0015 - val_loss: 9.1485e-04 - val_mean_squared_error: 9.1485e-04 - 2s/epoch - 29ms/step\n",
            "Epoch 43/100\n",
            "69/69 - 2s - loss: 0.0015 - mean_squared_error: 0.0015 - val_loss: 8.1050e-04 - val_mean_squared_error: 8.1050e-04 - 2s/epoch - 29ms/step\n",
            "Epoch 44/100\n",
            "69/69 - 2s - loss: 0.0014 - mean_squared_error: 0.0014 - val_loss: 7.4400e-04 - val_mean_squared_error: 7.4400e-04 - 2s/epoch - 30ms/step\n",
            "Epoch 45/100\n",
            "69/69 - 2s - loss: 0.0013 - mean_squared_error: 0.0013 - val_loss: 8.4940e-04 - val_mean_squared_error: 8.4940e-04 - 2s/epoch - 30ms/step\n",
            "Epoch 46/100\n",
            "69/69 - 2s - loss: 0.0015 - mean_squared_error: 0.0015 - val_loss: 8.3647e-04 - val_mean_squared_error: 8.3647e-04 - 2s/epoch - 29ms/step\n",
            "Epoch 47/100\n",
            "69/69 - 2s - loss: 0.0016 - mean_squared_error: 0.0016 - val_loss: 9.2695e-04 - val_mean_squared_error: 9.2695e-04 - 2s/epoch - 29ms/step\n",
            "Epoch 48/100\n",
            "69/69 - 2s - loss: 0.0015 - mean_squared_error: 0.0015 - val_loss: 8.5797e-04 - val_mean_squared_error: 8.5797e-04 - 2s/epoch - 29ms/step\n",
            "Epoch 49/100\n",
            "69/69 - 2s - loss: 0.0015 - mean_squared_error: 0.0015 - val_loss: 7.9507e-04 - val_mean_squared_error: 7.9507e-04 - 2s/epoch - 30ms/step\n",
            "Epoch 50/100\n",
            "69/69 - 2s - loss: 0.0015 - mean_squared_error: 0.0015 - val_loss: 8.4013e-04 - val_mean_squared_error: 8.4013e-04 - 2s/epoch - 29ms/step\n",
            "Epoch 51/100\n",
            "69/69 - 2s - loss: 0.0016 - mean_squared_error: 0.0016 - val_loss: 0.0010 - val_mean_squared_error: 0.0010 - 2s/epoch - 30ms/step\n",
            "Epoch 52/100\n",
            "69/69 - 2s - loss: 0.0015 - mean_squared_error: 0.0015 - val_loss: 8.1992e-04 - val_mean_squared_error: 8.1992e-04 - 2s/epoch - 29ms/step\n",
            "Epoch 53/100\n",
            "69/69 - 2s - loss: 0.0014 - mean_squared_error: 0.0014 - val_loss: 7.5882e-04 - val_mean_squared_error: 7.5882e-04 - 2s/epoch - 29ms/step\n",
            "Epoch 54/100\n",
            "69/69 - 2s - loss: 0.0013 - mean_squared_error: 0.0013 - val_loss: 8.0563e-04 - val_mean_squared_error: 8.0563e-04 - 2s/epoch - 29ms/step\n",
            "Epoch 55/100\n",
            "69/69 - 2s - loss: 0.0014 - mean_squared_error: 0.0014 - val_loss: 8.3995e-04 - val_mean_squared_error: 8.3995e-04 - 2s/epoch - 29ms/step\n",
            "Epoch 56/100\n",
            "69/69 - 2s - loss: 0.0014 - mean_squared_error: 0.0014 - val_loss: 7.4193e-04 - val_mean_squared_error: 7.4193e-04 - 2s/epoch - 31ms/step\n",
            "Epoch 57/100\n",
            "69/69 - 2s - loss: 0.0013 - mean_squared_error: 0.0013 - val_loss: 7.3837e-04 - val_mean_squared_error: 7.3837e-04 - 2s/epoch - 31ms/step\n",
            "Epoch 58/100\n",
            "69/69 - 2s - loss: 0.0013 - mean_squared_error: 0.0013 - val_loss: 8.4101e-04 - val_mean_squared_error: 8.4101e-04 - 2s/epoch - 30ms/step\n",
            "Epoch 59/100\n",
            "69/69 - 2s - loss: 0.0013 - mean_squared_error: 0.0013 - val_loss: 7.9486e-04 - val_mean_squared_error: 7.9486e-04 - 2s/epoch - 30ms/step\n",
            "Epoch 60/100\n",
            "69/69 - 2s - loss: 0.0013 - mean_squared_error: 0.0013 - val_loss: 7.0944e-04 - val_mean_squared_error: 7.0944e-04 - 2s/epoch - 31ms/step\n",
            "Epoch 61/100\n",
            "69/69 - 2s - loss: 0.0012 - mean_squared_error: 0.0012 - val_loss: 7.7579e-04 - val_mean_squared_error: 7.7579e-04 - 2s/epoch - 29ms/step\n",
            "Epoch 62/100\n",
            "69/69 - 2s - loss: 0.0012 - mean_squared_error: 0.0012 - val_loss: 7.6235e-04 - val_mean_squared_error: 7.6235e-04 - 2s/epoch - 30ms/step\n",
            "Epoch 63/100\n",
            "69/69 - 2s - loss: 0.0012 - mean_squared_error: 0.0012 - val_loss: 6.9909e-04 - val_mean_squared_error: 6.9909e-04 - 2s/epoch - 30ms/step\n",
            "Epoch 64/100\n",
            "69/69 - 2s - loss: 0.0012 - mean_squared_error: 0.0012 - val_loss: 7.5692e-04 - val_mean_squared_error: 7.5692e-04 - 2s/epoch - 30ms/step\n",
            "Epoch 65/100\n",
            "69/69 - 2s - loss: 0.0012 - mean_squared_error: 0.0012 - val_loss: 7.9723e-04 - val_mean_squared_error: 7.9723e-04 - 2s/epoch - 29ms/step\n",
            "Epoch 66/100\n",
            "69/69 - 2s - loss: 0.0013 - mean_squared_error: 0.0013 - val_loss: 7.6275e-04 - val_mean_squared_error: 7.6275e-04 - 2s/epoch - 30ms/step\n",
            "Epoch 67/100\n",
            "69/69 - 2s - loss: 0.0013 - mean_squared_error: 0.0013 - val_loss: 8.6617e-04 - val_mean_squared_error: 8.6617e-04 - 2s/epoch - 30ms/step\n",
            "Epoch 68/100\n",
            "69/69 - 2s - loss: 0.0014 - mean_squared_error: 0.0014 - val_loss: 8.3992e-04 - val_mean_squared_error: 8.3992e-04 - 2s/epoch - 29ms/step\n",
            "Epoch 69/100\n",
            "69/69 - 2s - loss: 0.0014 - mean_squared_error: 0.0014 - val_loss: 8.4778e-04 - val_mean_squared_error: 8.4778e-04 - 2s/epoch - 30ms/step\n",
            "Epoch 70/100\n",
            "69/69 - 2s - loss: 0.0014 - mean_squared_error: 0.0014 - val_loss: 8.5532e-04 - val_mean_squared_error: 8.5532e-04 - 2s/epoch - 29ms/step\n",
            "Epoch 71/100\n",
            "69/69 - 2s - loss: 0.0014 - mean_squared_error: 0.0014 - val_loss: 7.5758e-04 - val_mean_squared_error: 7.5758e-04 - 2s/epoch - 30ms/step\n",
            "Epoch 72/100\n",
            "69/69 - 2s - loss: 0.0013 - mean_squared_error: 0.0013 - val_loss: 7.3562e-04 - val_mean_squared_error: 7.3562e-04 - 2s/epoch - 29ms/step\n",
            "Epoch 73/100\n",
            "69/69 - 2s - loss: 0.0012 - mean_squared_error: 0.0012 - val_loss: 7.5757e-04 - val_mean_squared_error: 7.5757e-04 - 2s/epoch - 29ms/step\n",
            "Epoch 74/100\n",
            "69/69 - 2s - loss: 0.0012 - mean_squared_error: 0.0012 - val_loss: 7.6619e-04 - val_mean_squared_error: 7.6619e-04 - 2s/epoch - 30ms/step\n",
            "Epoch 75/100\n",
            "69/69 - 2s - loss: 0.0012 - mean_squared_error: 0.0012 - val_loss: 7.3555e-04 - val_mean_squared_error: 7.3555e-04 - 2s/epoch - 29ms/step\n",
            "Epoch 76/100\n",
            "69/69 - 2s - loss: 0.0011 - mean_squared_error: 0.0011 - val_loss: 7.0748e-04 - val_mean_squared_error: 7.0748e-04 - 2s/epoch - 30ms/step\n",
            "Epoch 77/100\n",
            "69/69 - 2s - loss: 0.0012 - mean_squared_error: 0.0012 - val_loss: 7.7897e-04 - val_mean_squared_error: 7.7897e-04 - 2s/epoch - 30ms/step\n",
            "Epoch 78/100\n",
            "69/69 - 2s - loss: 0.0013 - mean_squared_error: 0.0013 - val_loss: 7.6548e-04 - val_mean_squared_error: 7.6548e-04 - 2s/epoch - 30ms/step\n",
            "Epoch 79/100\n",
            "69/69 - 2s - loss: 0.0012 - mean_squared_error: 0.0012 - val_loss: 7.2330e-04 - val_mean_squared_error: 7.2330e-04 - 2s/epoch - 29ms/step\n",
            "Epoch 80/100\n",
            "69/69 - 2s - loss: 0.0011 - mean_squared_error: 0.0011 - val_loss: 7.4294e-04 - val_mean_squared_error: 7.4294e-04 - 2s/epoch - 30ms/step\n",
            "Epoch 81/100\n",
            "69/69 - 2s - loss: 0.0011 - mean_squared_error: 0.0011 - val_loss: 7.5097e-04 - val_mean_squared_error: 7.5097e-04 - 2s/epoch - 29ms/step\n",
            "Epoch 82/100\n",
            "69/69 - 2s - loss: 0.0012 - mean_squared_error: 0.0012 - val_loss: 7.5413e-04 - val_mean_squared_error: 7.5413e-04 - 2s/epoch - 29ms/step\n",
            "Epoch 83/100\n",
            "69/69 - 2s - loss: 0.0012 - mean_squared_error: 0.0012 - val_loss: 7.4063e-04 - val_mean_squared_error: 7.4063e-04 - 2s/epoch - 30ms/step\n",
            "Epoch 84/100\n",
            "69/69 - 2s - loss: 0.0011 - mean_squared_error: 0.0011 - val_loss: 7.4791e-04 - val_mean_squared_error: 7.4791e-04 - 2s/epoch - 32ms/step\n",
            "Epoch 85/100\n",
            "69/69 - 2s - loss: 0.0011 - mean_squared_error: 0.0011 - val_loss: 8.2207e-04 - val_mean_squared_error: 8.2207e-04 - 2s/epoch - 31ms/step\n",
            "Epoch 86/100\n",
            "69/69 - 2s - loss: 0.0011 - mean_squared_error: 0.0011 - val_loss: 7.7563e-04 - val_mean_squared_error: 7.7563e-04 - 2s/epoch - 30ms/step\n",
            "Epoch 87/100\n",
            "69/69 - 2s - loss: 0.0011 - mean_squared_error: 0.0011 - val_loss: 6.8949e-04 - val_mean_squared_error: 6.8949e-04 - 2s/epoch - 30ms/step\n",
            "Epoch 88/100\n",
            "69/69 - 2s - loss: 0.0010 - mean_squared_error: 0.0010 - val_loss: 7.5755e-04 - val_mean_squared_error: 7.5755e-04 - 2s/epoch - 30ms/step\n",
            "Epoch 89/100\n",
            "69/69 - 2s - loss: 0.0011 - mean_squared_error: 0.0011 - val_loss: 8.1861e-04 - val_mean_squared_error: 8.1861e-04 - 2s/epoch - 30ms/step\n",
            "Epoch 90/100\n",
            "69/69 - 2s - loss: 0.0012 - mean_squared_error: 0.0012 - val_loss: 7.8740e-04 - val_mean_squared_error: 7.8740e-04 - 2s/epoch - 30ms/step\n",
            "Epoch 91/100\n",
            "69/69 - 2s - loss: 0.0011 - mean_squared_error: 0.0011 - val_loss: 7.4991e-04 - val_mean_squared_error: 7.4991e-04 - 2s/epoch - 32ms/step\n",
            "Epoch 92/100\n",
            "69/69 - 2s - loss: 0.0011 - mean_squared_error: 0.0011 - val_loss: 7.4141e-04 - val_mean_squared_error: 7.4141e-04 - 2s/epoch - 33ms/step\n",
            "Epoch 93/100\n",
            "69/69 - 2s - loss: 0.0012 - mean_squared_error: 0.0012 - val_loss: 7.9611e-04 - val_mean_squared_error: 7.9611e-04 - 2s/epoch - 33ms/step\n",
            "Epoch 94/100\n",
            "69/69 - 2s - loss: 0.0011 - mean_squared_error: 0.0011 - val_loss: 7.8315e-04 - val_mean_squared_error: 7.8315e-04 - 2s/epoch - 32ms/step\n",
            "Epoch 95/100\n",
            "69/69 - 2s - loss: 0.0011 - mean_squared_error: 0.0011 - val_loss: 7.6293e-04 - val_mean_squared_error: 7.6293e-04 - 2s/epoch - 31ms/step\n",
            "Epoch 96/100\n",
            "69/69 - 2s - loss: 0.0010 - mean_squared_error: 0.0010 - val_loss: 7.2239e-04 - val_mean_squared_error: 7.2239e-04 - 2s/epoch - 31ms/step\n",
            "Epoch 97/100\n",
            "69/69 - 2s - loss: 0.0010 - mean_squared_error: 0.0010 - val_loss: 7.1933e-04 - val_mean_squared_error: 7.1933e-04 - 2s/epoch - 31ms/step\n",
            "Epoch 98/100\n",
            "69/69 - 2s - loss: 0.0011 - mean_squared_error: 0.0011 - val_loss: 7.2197e-04 - val_mean_squared_error: 7.2197e-04 - 2s/epoch - 31ms/step\n",
            "Epoch 99/100\n",
            "69/69 - 2s - loss: 9.8399e-04 - mean_squared_error: 9.8399e-04 - val_loss: 7.2870e-04 - val_mean_squared_error: 7.2870e-04 - 2s/epoch - 31ms/step\n",
            "Epoch 100/100\n",
            "69/69 - 2s - loss: 0.0010 - mean_squared_error: 0.0010 - val_loss: 7.3952e-04 - val_mean_squared_error: 7.3952e-04 - 2s/epoch - 32ms/step\n"
          ]
        }
      ],
      "source": [
        "# fit network\n",
        "history = model.fit(train_X, train_Y, epochs=100, batch_size=128, validation_data=(test_X, test_Y), verbose=2, shuffle=False)  #, verbose=2, shuffle=False"
      ]
    },
    {
      "cell_type": "code",
      "execution_count": null,
      "metadata": {
        "id": "XYYAOahR5apH",
        "outputId": "248441ac-c6c9-4ad7-d003-51e08d0cad45"
      },
      "outputs": [
        {
          "data": {
            "image/png": "[encoded data removed]",
            "text/plain": [
              "<Figure size 432x288 with 1 Axes>"
            ]
          },
          "metadata": {
            "needs_background": "light"
          },
          "output_type": "display_data"
        }
      ],
      "source": [
        "# plot history\n",
        "pyplot.plot(history.history['loss'], label='train',color=\"cyan\")\n",
        "pyplot.plot(history.history['val_loss'], label='test',color=\"red\")\n",
        "pyplot.legend()\n",
        "pyplot.title(\"Loss Function for Training and Testing\")\n",
        "pyplot.show()\n"
      ]
    },
    {
      "cell_type": "code",
      "execution_count": null,
      "metadata": {
        "id": "8F173NQS5apH",
        "outputId": "87809425-ea8a-4f2a-a34a-03b89aea4200"
      },
      "outputs": [
        {
          "name": "stdout",
          "output_type": "stream",
          "text": [
            "2741/2741 [==============================] - 7s 2ms/step\n"
          ]
        }
      ],
      "source": [
        "# make a prediction\n",
        "test_Y_predicted = model.predict(test_X)\n",
        "test_X = test_X.reshape((test_X.shape[0], n_hours*n_features))"
      ]
    },
    {
      "cell_type": "code",
      "execution_count": null,
      "metadata": {
        "id": "roOpyw315apI",
        "outputId": "a39e7021-043f-4276-9063-8f9ee34d6dd7"
      },
      "outputs": [
        {
          "name": "stdout",
          "output_type": "stream",
          "text": [
            "[[0.4864153 ]\n",
            " [0.53980017]\n",
            " [0.54758835]\n",
            " ...\n",
            " [0.7186837 ]\n",
            " [0.6829802 ]\n",
            " [0.67731106]]\n",
            "[0.5386554  0.53757536 0.5223652  ... 0.7105571  0.70218706 0.68463683]\n"
          ]
        }
      ],
      "source": [
        "print(test_Y_predicted)\n",
        "print(test_Y)"
      ]
    },
    {
      "cell_type": "code",
      "execution_count": null,
      "metadata": {
        "id": "6l4W1Vn75apI",
        "outputId": "e4bae649-ca4d-40d4-d9c3-a09f18e508a4"
      },
      "outputs": [
        {
          "data": {
            "image/png": "[encoded data removed]",
            "text/plain": [
              "<Figure size 432x288 with 1 Axes>"
            ]
          },
          "metadata": {
            "needs_background": "light"
          },
          "output_type": "display_data"
        }
      ],
      "source": [
        "pyplot.plot(test_Y[:100],label=\"Actual\",color=\"cyan\")\n",
        "pyplot.plot(test_Y_predicted[:100],label=\"Predicted\",color=\"red\")\n",
        "pyplot.legend()\n",
        "pyplot.title(\"Actual values Vs Predicted values\")\n",
        "pyplot.grid()"
      ]
    },
    {
      "cell_type": "code",
      "execution_count": null,
      "metadata": {
        "id": "CK34QkAr5apI",
        "outputId": "4febf775-f2f4-4bdc-98e2-b3a7031c3c2d"
      },
      "outputs": [
        {
          "data": {
            "image/png": "[encoded data removed]",
            "text/plain": [
              "<Figure size 432x288 with 1 Axes>"
            ]
          },
          "metadata": {
            "needs_background": "light"
          },
          "output_type": "display_data"
        }
      ],
      "source": [
        "pyplot.plot(test_Y[200:300],label=\"Actual\",color=\"cyan\")\n",
        "pyplot.plot(test_Y_predicted[200:300],label=\"Predicted\",color=\"red\")\n",
        "pyplot.legend()\n",
        "pyplot.title(\"Actual values Vs Predicted values\")\n",
        "pyplot.grid()"
      ]
    },
    {
      "cell_type": "code",
      "execution_count": null,
      "metadata": {
        "id": "HRHK581u5apI",
        "outputId": "759e1b65-8114-44d0-9d28-50b5b0fbe5e0"
      },
      "outputs": [
        {
          "name": "stdout",
          "output_type": "stream",
          "text": [
            "Test RMSE: 1.679\n"
          ]
        }
      ],
      "source": [
        "# calculate RMSE\n",
        "from math import sqrt\n",
        "rmse = sqrt(mean_squared_error(inv_test_Y, inv_test_Y_predicted))\n",
        "print('Test RMSE: %.3f' % rmse) "
      ]
    },
    {
      "cell_type": "code",
      "execution_count": null,
      "metadata": {
        "id": "w5GY16sO5apI"
      },
      "outputs": [],
      "source": [
        "# comparing actual temperature and predicted temperature predicted using data of 3 previous hours\n",
        "df_result=pd.DataFrame({'Actual_Temperature':inv_test_Y,'Predicted_Temperature':inv_test_Y_predicted})"
      ]
    },
    {
      "cell_type": "code",
      "execution_count": null,
      "metadata": {
        "id": "L_jdHJuH5apI",
        "outputId": "3e1e27cd-ed91-421a-f12b-58f25b298104"
      },
      "outputs": [
        {
          "data": {
            "text/html": [
              "<div>\n",
              "<style scoped>\n",
              "    .dataframe tbody tr th:only-of-type {\n",
              "        vertical-align: middle;\n",
              "    }\n",
              "\n",
              "    .dataframe tbody tr th {\n",
              "        vertical-align: top;\n",
              "    }\n",
              "\n",
              "    .dataframe thead th {\n",
              "        text-align: right;\n",
              "    }\n",
              "</style>\n",
              "<table border=\"1\" class=\"dataframe\">\n",
              "  <thead>\n",
              "    <tr style=\"text-align: right;\">\n",
              "      <th></th>\n",
              "      <th>Actual_Temperature</th>\n",
              "      <th>Predicted_Temperature</th>\n",
              "    </tr>\n",
              "  </thead>\n",
              "  <tbody>\n",
              "    <tr>\n",
              "      <th>0</th>\n",
              "      <td>11.427777</td>\n",
              "      <td>8.203112</td>\n",
              "    </tr>\n",
              "    <tr>\n",
              "      <th>1</th>\n",
              "      <td>11.361109</td>\n",
              "      <td>11.498441</td>\n",
              "    </tr>\n",
              "    <tr>\n",
              "      <th>2</th>\n",
              "      <td>10.422220</td>\n",
              "      <td>11.979188</td>\n",
              "    </tr>\n",
              "    <tr>\n",
              "      <th>3</th>\n",
              "      <td>10.833334</td>\n",
              "      <td>10.588707</td>\n",
              "    </tr>\n",
              "    <tr>\n",
              "      <th>4</th>\n",
              "      <td>10.911113</td>\n",
              "      <td>11.847345</td>\n",
              "    </tr>\n",
              "  </tbody>\n",
              "</table>\n",
              "</div>"
            ],
            "text/plain": [
              "   Actual_Temperature  Predicted_Temperature\n",
              "0           11.427777               8.203112\n",
              "1           11.361109              11.498441\n",
              "2           10.422220              11.979188\n",
              "3           10.833334              10.588707\n",
              "4           10.911113              11.847345"
            ]
          },
          "execution_count": 75,
          "metadata": {},
          "output_type": "execute_result"
        }
      ],
      "source": [
        "df_result.head()"
      ]
    },
    {
      "cell_type": "code",
      "execution_count": null,
      "metadata": {
        "id": "roWaOfN95apJ"
      },
      "outputs": [],
      "source": [
        "df_result.to_csv(\"weather_result.csv\")"
      ]
    },
    {
      "cell_type": "code",
      "execution_count": null,
      "metadata": {
        "id": "henFskqp5apJ"
      },
      "outputs": [],
      "source": []
    }
  ],
  "metadata": {
    "kernelspec": {
      "display_name": "Python 3 (ipykernel)",
      "language": "python",
      "name": "python3"
    },
    "language_info": {
      "codemirror_mode": {
        "name": "ipython",
        "version": 3
      },
      "file_extension": ".py",
      "mimetype": "text/x-python",
      "name": "python",
      "nbconvert_exporter": "python",
      "pygments_lexer": "ipython3",
      "version": "3.9.12"
    },
    "colab": {
      "provenance": [],
      "include_colab_link": true
    }
  },
  "nbformat": 4,
  "nbformat_minor": 0
}